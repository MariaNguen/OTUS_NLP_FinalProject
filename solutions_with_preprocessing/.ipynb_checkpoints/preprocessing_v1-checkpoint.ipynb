{
 "cells": [
  {
   "cell_type": "markdown",
   "metadata": {},
   "source": [
    "# Detoxification. Preprocessing data"
   ]
  },
  {
   "cell_type": "code",
   "execution_count": 37,
   "metadata": {},
   "outputs": [],
   "source": [
    "import pandas as pd\n",
    "import numpy as np\n",
    "from tqdm import trange"
   ]
  },
  {
   "cell_type": "code",
   "execution_count": 56,
   "metadata": {},
   "outputs": [
    {
     "name": "stdout",
     "output_type": "stream",
     "text": [
      "Number of training sentences: 6,948\n",
      "\n"
     ]
    },
    {
     "data": {
      "text/html": [
       "<div>\n",
       "<style scoped>\n",
       "    .dataframe tbody tr th:only-of-type {\n",
       "        vertical-align: middle;\n",
       "    }\n",
       "\n",
       "    .dataframe tbody tr th {\n",
       "        vertical-align: top;\n",
       "    }\n",
       "\n",
       "    .dataframe thead th {\n",
       "        text-align: right;\n",
       "    }\n",
       "</style>\n",
       "<table border=\"1\" class=\"dataframe\">\n",
       "  <thead>\n",
       "    <tr style=\"text-align: right;\">\n",
       "      <th></th>\n",
       "      <th>toxic_comment</th>\n",
       "      <th>neutral_comment1</th>\n",
       "      <th>neutral_comment2</th>\n",
       "      <th>neutral_comment3</th>\n",
       "    </tr>\n",
       "    <tr>\n",
       "      <th>index</th>\n",
       "      <th></th>\n",
       "      <th></th>\n",
       "      <th></th>\n",
       "      <th></th>\n",
       "    </tr>\n",
       "  </thead>\n",
       "  <tbody>\n",
       "    <tr>\n",
       "      <th>4715</th>\n",
       "      <td>ЭТОТ ПЕЧАЛЬНЫЙ МОМЕНТ,КОГДА ХОЧЕШЬ ПОГУЛЯТЬ,А ...</td>\n",
       "      <td>Этот печальный момент, когда хочешь погулять, ...</td>\n",
       "      <td>NaN</td>\n",
       "      <td>NaN</td>\n",
       "    </tr>\n",
       "    <tr>\n",
       "      <th>6783</th>\n",
       "      <td>как это??? блять((обрежу все батареи нах</td>\n",
       "      <td>как это??? обрежу все батареи</td>\n",
       "      <td>NaN</td>\n",
       "      <td>NaN</td>\n",
       "    </tr>\n",
       "    <tr>\n",
       "      <th>1445</th>\n",
       "      <td>необходимо внедрить практику китая.всех стреля...</td>\n",
       "      <td>необходимо внедрить практику китая.всех судить...</td>\n",
       "      <td>NaN</td>\n",
       "      <td>NaN</td>\n",
       "    </tr>\n",
       "    <tr>\n",
       "      <th>1747</th>\n",
       "      <td>ты, чмошница, живи, как хочешь, ебись с кем хо...</td>\n",
       "      <td>Ну и живи, как хочешь, скоро получите, что хот...</td>\n",
       "      <td>NaN</td>\n",
       "      <td>NaN</td>\n",
       "    </tr>\n",
       "    <tr>\n",
       "      <th>5921</th>\n",
       "      <td>нитрааатище, не пизди тут(( — какого черта?</td>\n",
       "      <td>не ври</td>\n",
       "      <td>Не надо врать. Какой смысл?</td>\n",
       "      <td>NaN</td>\n",
       "    </tr>\n",
       "    <tr>\n",
       "      <th>777</th>\n",
       "      <td>Гипно жаба ты ли это??</td>\n",
       "      <td>Ты ли это?</td>\n",
       "      <td>NaN</td>\n",
       "      <td>NaN</td>\n",
       "    </tr>\n",
       "    <tr>\n",
       "      <th>643</th>\n",
       "      <td>пиздец как же я ненавижу женщин</td>\n",
       "      <td>Не люблю женщин</td>\n",
       "      <td>NaN</td>\n",
       "      <td>NaN</td>\n",
       "    </tr>\n",
       "    <tr>\n",
       "      <th>6833</th>\n",
       "      <td>-ОНИ СТОЯТ!-ЛАН,ВООБЩЕ ТО ОНИ ИДУТ!!Сук пздц (...</td>\n",
       "      <td>ОНИ СТОЯТ!-ЛАН,ВООБЩЕ ТО ОНИ ИДУТ!!</td>\n",
       "      <td>Они стоят! Ладно! Вообще-то они идут...</td>\n",
       "      <td>-ОНИ СТОЯТ!-ЛАН,ВООБЩЕ ТО ОНИ ИДУТ!!</td>\n",
       "    </tr>\n",
       "    <tr>\n",
       "      <th>5824</th>\n",
       "      <td>ОМГ КАКОЙ НАХОЙ ЗАМУЖ, Я ЖЕ МАЛЕНЬКАЯ ДЕВАЧКА ...</td>\n",
       "      <td>ОМГ КАКОЙ МНЕ ЗАМУЖ, Я ЖЕ МАЛЕНЬКАЯ ДЕВАЧКА Х(...</td>\n",
       "      <td>Зачем замуж? Я ещё маленькая девочка</td>\n",
       "      <td>NaN</td>\n",
       "    </tr>\n",
       "    <tr>\n",
       "      <th>1803</th>\n",
       "      <td>и что этого пидора не отпорол никто???</td>\n",
       "      <td>И что его никто не наказал?</td>\n",
       "      <td>NaN</td>\n",
       "      <td>NaN</td>\n",
       "    </tr>\n",
       "  </tbody>\n",
       "</table>\n",
       "</div>"
      ],
      "text/plain": [
       "                                           toxic_comment  \\\n",
       "index                                                      \n",
       "4715   ЭТОТ ПЕЧАЛЬНЫЙ МОМЕНТ,КОГДА ХОЧЕШЬ ПОГУЛЯТЬ,А ...   \n",
       "6783            как это??? блять((обрежу все батареи нах   \n",
       "1445   необходимо внедрить практику китая.всех стреля...   \n",
       "1747   ты, чмошница, живи, как хочешь, ебись с кем хо...   \n",
       "5921         нитрааатище, не пизди тут(( — какого черта?   \n",
       "777                               Гипно жаба ты ли это??   \n",
       "643                      пиздец как же я ненавижу женщин   \n",
       "6833   -ОНИ СТОЯТ!-ЛАН,ВООБЩЕ ТО ОНИ ИДУТ!!Сук пздц (...   \n",
       "5824   ОМГ КАКОЙ НАХОЙ ЗАМУЖ, Я ЖЕ МАЛЕНЬКАЯ ДЕВАЧКА ...   \n",
       "1803              и что этого пидора не отпорол никто???   \n",
       "\n",
       "                                        neutral_comment1  \\\n",
       "index                                                      \n",
       "4715   Этот печальный момент, когда хочешь погулять, ...   \n",
       "6783                       как это??? обрежу все батареи   \n",
       "1445   необходимо внедрить практику китая.всех судить...   \n",
       "1747   Ну и живи, как хочешь, скоро получите, что хот...   \n",
       "5921                                              не ври   \n",
       "777                                           Ты ли это?   \n",
       "643                                      Не люблю женщин   \n",
       "6833                 ОНИ СТОЯТ!-ЛАН,ВООБЩЕ ТО ОНИ ИДУТ!!   \n",
       "5824   ОМГ КАКОЙ МНЕ ЗАМУЖ, Я ЖЕ МАЛЕНЬКАЯ ДЕВАЧКА Х(...   \n",
       "1803                         И что его никто не наказал?   \n",
       "\n",
       "                              neutral_comment2  \\\n",
       "index                                            \n",
       "4715                                       NaN   \n",
       "6783                                       NaN   \n",
       "1445                                       NaN   \n",
       "1747                                       NaN   \n",
       "5921               Не надо врать. Какой смысл?   \n",
       "777                                        NaN   \n",
       "643                                        NaN   \n",
       "6833   Они стоят! Ладно! Вообще-то они идут...   \n",
       "5824      Зачем замуж? Я ещё маленькая девочка   \n",
       "1803                                       NaN   \n",
       "\n",
       "                           neutral_comment3  \n",
       "index                                        \n",
       "4715                                    NaN  \n",
       "6783                                    NaN  \n",
       "1445                                    NaN  \n",
       "1747                                    NaN  \n",
       "5921                                    NaN  \n",
       "777                                     NaN  \n",
       "643                                     NaN  \n",
       "6833   -ОНИ СТОЯТ!-ЛАН,ВООБЩЕ ТО ОНИ ИДУТ!!  \n",
       "5824                                    NaN  \n",
       "1803                                    NaN  "
      ]
     },
     "execution_count": 56,
     "metadata": {},
     "output_type": "execute_result"
    }
   ],
   "source": [
    "# Load the dataset into a pandas dataframe.\n",
    "train = pd.read_csv(r\"./content/train.tsv\", sep='\\t', on_bad_lines='skip', index_col='index')\n",
    "\n",
    "# Report the number of sentences.\n",
    "print('Number of training sentences: {:,}\\n'.format(train.shape[0]))\n",
    "\n",
    "# Display 10 random rows from the data.\n",
    "train.sample(10)"
   ]
  },
  {
   "cell_type": "code",
   "execution_count": 57,
   "metadata": {},
   "outputs": [
    {
     "name": "stdout",
     "output_type": "stream",
     "text": [
      "Number of test sentences: 800\n",
      "\n"
     ]
    },
    {
     "data": {
      "text/html": [
       "<div>\n",
       "<style scoped>\n",
       "    .dataframe tbody tr th:only-of-type {\n",
       "        vertical-align: middle;\n",
       "    }\n",
       "\n",
       "    .dataframe tbody tr th {\n",
       "        vertical-align: top;\n",
       "    }\n",
       "\n",
       "    .dataframe thead th {\n",
       "        text-align: right;\n",
       "    }\n",
       "</style>\n",
       "<table border=\"1\" class=\"dataframe\">\n",
       "  <thead>\n",
       "    <tr style=\"text-align: right;\">\n",
       "      <th></th>\n",
       "      <th>toxic_comment</th>\n",
       "      <th>neutral_comment1</th>\n",
       "      <th>neutral_comment2</th>\n",
       "      <th>neutral_comment3</th>\n",
       "    </tr>\n",
       "  </thead>\n",
       "  <tbody>\n",
       "    <tr>\n",
       "      <th>586</th>\n",
       "      <td>потому что у нас такая власть и дохуе ще долбо...</td>\n",
       "      <td>потому что у нас такая власть и много людей , ...</td>\n",
       "      <td>NaN</td>\n",
       "      <td>NaN</td>\n",
       "    </tr>\n",
       "    <tr>\n",
       "      <th>533</th>\n",
       "      <td>эти пидоры и шлюха спасут только себя.</td>\n",
       "      <td>Эти люди спасут только себя</td>\n",
       "      <td>NaN</td>\n",
       "      <td>NaN</td>\n",
       "    </tr>\n",
       "    <tr>\n",
       "      <th>263</th>\n",
       "      <td>вот ввп не чего делать , как бегать и уродов т...</td>\n",
       "      <td>вот ввп не чего делать , как бегать и травить,...</td>\n",
       "      <td>NaN</td>\n",
       "      <td>NaN</td>\n",
       "    </tr>\n",
       "    <tr>\n",
       "      <th>411</th>\n",
       "      <td>нахуй он там кому нужен, пидор!</td>\n",
       "      <td>Кому он там нужен</td>\n",
       "      <td>NaN</td>\n",
       "      <td>NaN</td>\n",
       "    </tr>\n",
       "    <tr>\n",
       "      <th>404</th>\n",
       "      <td>жируют твари и над народом издеваются.</td>\n",
       "      <td>Хорошо живут и над народом издеваются.</td>\n",
       "      <td>Хорошо живут и над народом издеваются</td>\n",
       "      <td>NaN</td>\n",
       "    </tr>\n",
       "    <tr>\n",
       "      <th>177</th>\n",
       "      <td>нашим дизайнерам с ирбита руки оторвать.</td>\n",
       "      <td>Наши дизайнеры из Ирбита плохо справились со с...</td>\n",
       "      <td>NaN</td>\n",
       "      <td>NaN</td>\n",
       "    </tr>\n",
       "    <tr>\n",
       "      <th>584</th>\n",
       "      <td>мусора охуели напрочь, дали волю, вот и борзеют</td>\n",
       "      <td>Полицейские перешли грань, дали волю вот и бес...</td>\n",
       "      <td>NaN</td>\n",
       "      <td>NaN</td>\n",
       "    </tr>\n",
       "    <tr>\n",
       "      <th>699</th>\n",
       "      <td>пиздешь чистой воды,задолбали в открытую народ...</td>\n",
       "      <td>Это не правда, есть и другие ее фото во время ...</td>\n",
       "      <td>NaN</td>\n",
       "      <td>NaN</td>\n",
       "    </tr>\n",
       "    <tr>\n",
       "      <th>783</th>\n",
       "      <td>охренел, что ли ваш батька! кем себя возомнил,...</td>\n",
       "      <td>Кем ваш батька себя возомнил? Кто он такой что...</td>\n",
       "      <td>NaN</td>\n",
       "      <td>NaN</td>\n",
       "    </tr>\n",
       "    <tr>\n",
       "      <th>418</th>\n",
       "      <td>А что в кастрюле? уххх бля</td>\n",
       "      <td>А что в кастрюле</td>\n",
       "      <td>А что в кастрюле? уххх...</td>\n",
       "      <td>А что в кастрюле?</td>\n",
       "    </tr>\n",
       "  </tbody>\n",
       "</table>\n",
       "</div>"
      ],
      "text/plain": [
       "                                         toxic_comment  \\\n",
       "586  потому что у нас такая власть и дохуе ще долбо...   \n",
       "533             эти пидоры и шлюха спасут только себя.   \n",
       "263  вот ввп не чего делать , как бегать и уродов т...   \n",
       "411                    нахуй он там кому нужен, пидор!   \n",
       "404             жируют твари и над народом издеваются.   \n",
       "177           нашим дизайнерам с ирбита руки оторвать.   \n",
       "584    мусора охуели напрочь, дали волю, вот и борзеют   \n",
       "699  пиздешь чистой воды,задолбали в открытую народ...   \n",
       "783  охренел, что ли ваш батька! кем себя возомнил,...   \n",
       "418                         А что в кастрюле? уххх бля   \n",
       "\n",
       "                                      neutral_comment1  \\\n",
       "586  потому что у нас такая власть и много людей , ...   \n",
       "533                        Эти люди спасут только себя   \n",
       "263  вот ввп не чего делать , как бегать и травить,...   \n",
       "411                                  Кому он там нужен   \n",
       "404             Хорошо живут и над народом издеваются.   \n",
       "177  Наши дизайнеры из Ирбита плохо справились со с...   \n",
       "584  Полицейские перешли грань, дали волю вот и бес...   \n",
       "699  Это не правда, есть и другие ее фото во время ...   \n",
       "783  Кем ваш батька себя возомнил? Кто он такой что...   \n",
       "418                                   А что в кастрюле   \n",
       "\n",
       "                          neutral_comment2   neutral_comment3  \n",
       "586                                    NaN                NaN  \n",
       "533                                    NaN                NaN  \n",
       "263                                    NaN                NaN  \n",
       "411                                    NaN                NaN  \n",
       "404  Хорошо живут и над народом издеваются                NaN  \n",
       "177                                    NaN                NaN  \n",
       "584                                    NaN                NaN  \n",
       "699                                    NaN                NaN  \n",
       "783                                    NaN                NaN  \n",
       "418              А что в кастрюле? уххх...  А что в кастрюле?  "
      ]
     },
     "execution_count": 57,
     "metadata": {},
     "output_type": "execute_result"
    }
   ],
   "source": [
    "# Load the dataset into a pandas dataframe.\n",
    "dev = pd.read_csv(\"./content/dev.tsv\", sep='\\t', on_bad_lines='skip')\n",
    "\n",
    "# Report the number of sentences.\n",
    "print('Number of test sentences: {:,}\\n'.format(dev.shape[0]))\n",
    "\n",
    "# Display 10 random rows from the data.\n",
    "dev.sample(10)"
   ]
  },
  {
   "cell_type": "markdown",
   "metadata": {},
   "source": [
    "Преобразуем данные из train таким образом, чтобы у нас было только две колонки: toxic_comment и neutral_comment."
   ]
  },
  {
   "cell_type": "code",
   "execution_count": 58,
   "metadata": {},
   "outputs": [],
   "source": [
    "def concat_neutral_comments(data):\n",
    "    data1 = data[~data['neutral_comment1'].isna()][['toxic_comment', 'neutral_comment1']]\n",
    "    data2 = data[~data['neutral_comment2'].isna()][['toxic_comment', 'neutral_comment2']]\n",
    "    data3 = data[~data['neutral_comment3'].isna()][['toxic_comment', 'neutral_comment3']]\n",
    "    data1.columns = ['toxic_comment', 'neutral_comment']\n",
    "    data2.columns = ['toxic_comment', 'neutral_comment']\n",
    "    data3.columns = ['toxic_comment', 'neutral_comment']\n",
    "\n",
    "    return pd.concat([data1, data2, data3], ignore_index=True)"
   ]
  },
  {
   "cell_type": "code",
   "execution_count": 59,
   "metadata": {},
   "outputs": [],
   "source": [
    "train = concat_neutral_comments(train)"
   ]
  },
  {
   "cell_type": "code",
   "execution_count": 60,
   "metadata": {},
   "outputs": [],
   "source": [
    "dev = concat_neutral_comments(dev)"
   ]
  },
  {
   "cell_type": "code",
   "execution_count": 61,
   "metadata": {},
   "outputs": [
    {
     "data": {
      "text/plain": [
       "207"
      ]
     },
     "execution_count": 61,
     "metadata": {},
     "output_type": "execute_result"
    }
   ],
   "source": [
    "# Проверим данные на дубликаты\n",
    "train.duplicated().sum()"
   ]
  },
  {
   "cell_type": "code",
   "execution_count": 62,
   "metadata": {},
   "outputs": [],
   "source": [
    "# удалим дубликаты\n",
    "train = train.drop_duplicates().reset_index().drop('index', axis=1)"
   ]
  },
  {
   "cell_type": "markdown",
   "metadata": {},
   "source": [
    "Мы хотим обучить модели, максимизируя показатели метрик `Style Transfer Accuracy (STA)`, `Meaning Preservation Score (SIM)`, и `Fluency Score (FL)`. Интересно посмотреть, как сейчас обстоит дело с этими метриками в наших обучающих данных. "
   ]
  },
  {
   "cell_type": "markdown",
   "metadata": {},
   "source": [
    "## Подсчет метрик на обучающих данных\n",
    "На базе https://github.com/s-nlp/russe_detox_2022/blob/main/evaluation/ru_detoxification_evaluation.ipynb"
   ]
  },
  {
   "cell_type": "code",
   "execution_count": 63,
   "metadata": {},
   "outputs": [],
   "source": [
    "from transformers import AutoTokenizer, AutoModelForSequenceClassification, AutoModel"
   ]
  },
  {
   "cell_type": "code",
   "execution_count": 64,
   "metadata": {},
   "outputs": [
    {
     "name": "stdout",
     "output_type": "stream",
     "text": [
      "No GPU available, using the CPU instead.\n"
     ]
    }
   ],
   "source": [
    "import torch\n",
    "\n",
    "# If there's a GPU available...\n",
    "if torch.cuda.is_available():\n",
    "\n",
    "    # Tell PyTorch to use the GPU.\n",
    "    device = torch.device(\"cuda\")\n",
    "\n",
    "    print('There are %d GPU(s) available.' % torch.cuda.device_count())\n",
    "\n",
    "    print('We will use the GPU:', torch.cuda.get_device_name(0))\n",
    "\n",
    "# If not...\n",
    "else:\n",
    "    print('No GPU available, using the CPU instead.')\n",
    "    device = torch.device(\"cpu\")"
   ]
  },
  {
   "cell_type": "code",
   "execution_count": 65,
   "metadata": {},
   "outputs": [],
   "source": [
    "def load_model(model_name=None, model=None, tokenizer=None,\n",
    "               model_class=AutoModelForSequenceClassification, use_cuda=True):\n",
    "    if model is None:\n",
    "        if model_name is None:\n",
    "            raise ValueError('Either model or model_name should be provided')\n",
    "        model = model_class.from_pretrained(model_name)\n",
    "        if torch.cuda.is_available() and use_cuda:\n",
    "            model.cuda()\n",
    "    if tokenizer is None:\n",
    "        if model_name is None:\n",
    "            raise ValueError('Either tokenizer or model_name should be provided')\n",
    "        tokenizer = AutoTokenizer.from_pretrained(model_name)\n",
    "    return model, tokenizer"
   ]
  },
  {
   "cell_type": "markdown",
   "metadata": {},
   "source": [
    "### Style Transfer Accuracy (STA)"
   ]
  },
  {
   "cell_type": "code",
   "execution_count": 66,
   "metadata": {},
   "outputs": [],
   "source": [
    "def prepare_target_label(model, target_label):\n",
    "    if target_label in model.config.id2label:\n",
    "        pass\n",
    "    elif target_label in model.config.label2id:\n",
    "        target_label = model.config.label2id.get(target_label)\n",
    "    elif target_label.isnumeric() and int(target_label) in model.config.id2label:\n",
    "        target_label = int(target_label)\n",
    "    else:\n",
    "        raise ValueError(f'target_label \"{target_label}\" is not in model labels or ids: {model.config.id2label}.')\n",
    "    return target_label"
   ]
  },
  {
   "cell_type": "code",
   "execution_count": 67,
   "metadata": {},
   "outputs": [],
   "source": [
    "def classify_texts(model, tokenizer, texts, second_texts=None, target_label=None, batch_size=32, verbose=False):\n",
    "    target_label = prepare_target_label(model, target_label)\n",
    "    res = []\n",
    "    if verbose:\n",
    "        tq = trange\n",
    "    else:\n",
    "        tq = range\n",
    "    for i in tq(0, len(texts), batch_size):\n",
    "        inputs = [texts[i:i+batch_size]]\n",
    "        if second_texts is not None:\n",
    "            inputs.append(second_texts[i:i+batch_size])\n",
    "        inputs = tokenizer(*inputs, return_tensors='pt', padding=True, truncation=True, max_length=512).to(model.device)\n",
    "        with torch.no_grad():\n",
    "            preds = torch.softmax(model(**inputs).logits, -1)[:, target_label].cpu().numpy()\n",
    "        res.append(preds)\n",
    "    return np.concatenate(res)"
   ]
  },
  {
   "cell_type": "code",
   "execution_count": 68,
   "metadata": {},
   "outputs": [],
   "source": [
    "def rotation_calibration(data, coef=1.0, px=1, py=1, minimum=0, maximum=1):\n",
    "    result = (data - px) * coef + py\n",
    "    if minimum is not None:\n",
    "        result = np.maximum(minimum, result)\n",
    "    if maximum is not None:\n",
    "        result = np.minimum(maximum, result)\n",
    "    return result"
   ]
  },
  {
   "cell_type": "code",
   "execution_count": 69,
   "metadata": {},
   "outputs": [],
   "source": [
    "def evaluate_style(\n",
    "    model,\n",
    "    tokenizer,\n",
    "    texts,\n",
    "    target_label=1,  # 1 is toxic, 0 is neutral\n",
    "    batch_size=32,\n",
    "    verbose=False\n",
    "):\n",
    "    target_label = prepare_target_label(model, target_label)\n",
    "    scores = classify_texts(\n",
    "        model,\n",
    "        tokenizer,\n",
    "        texts,\n",
    "        batch_size=batch_size, verbose=verbose, target_label=target_label\n",
    "    )\n",
    "    return rotation_calibration(scores, 0.90)"
   ]
  },
  {
   "cell_type": "code",
   "execution_count": 45,
   "metadata": {},
   "outputs": [],
   "source": [
    "style_model, style_tokenizer = load_model('SkolkovoInstitute/russian_toxicity_classifier')"
   ]
  },
  {
   "cell_type": "code",
   "execution_count": 70,
   "metadata": {},
   "outputs": [
    {
     "name": "stderr",
     "output_type": "stream",
     "text": [
      "100%|██████████| 5442/5442 [07:53<00:00, 11.50it/s]\n"
     ]
    }
   ],
   "source": [
    "accuracy = evaluate_style(\n",
    "    model = style_model,\n",
    "    tokenizer = style_tokenizer,\n",
    "    texts = list(train['neutral_comment']),\n",
    "    target_label=0,  # 1 is toxic, 0 is neutral\n",
    "    batch_size=32,\n",
    "    verbose=True\n",
    ")"
   ]
  },
  {
   "cell_type": "code",
   "execution_count": 72,
   "metadata": {},
   "outputs": [],
   "source": [
    "train['sta'] = accuracy"
   ]
  },
  {
   "cell_type": "markdown",
   "metadata": {},
   "source": [
    "### Meaning Preservation Score (SIM)"
   ]
  },
  {
   "cell_type": "code",
   "execution_count": 76,
   "metadata": {},
   "outputs": [],
   "source": [
    "def encode_cls(texts, model, tokenizer, batch_size=32, verbose=False):\n",
    "    results = []\n",
    "    if verbose:\n",
    "        tq = trange\n",
    "    else:\n",
    "        tq = range\n",
    "    for i in tq(0, len(texts), batch_size):\n",
    "        batch = texts[i: i + batch_size]\n",
    "        with torch.no_grad():\n",
    "            out = model(**tokenizer(batch, return_tensors='pt', padding=True, truncation=True).to(model.device))\n",
    "            embeddings = out.pooler_output\n",
    "            embeddings = torch.nn.functional.normalize(embeddings).cpu().numpy()\n",
    "            results.append(embeddings)\n",
    "    return np.concatenate(results)"
   ]
  },
  {
   "cell_type": "code",
   "execution_count": 77,
   "metadata": {},
   "outputs": [],
   "source": [
    "def evaluate_cosine_similarity(\n",
    "    model,\n",
    "    tokenizer,\n",
    "    original_texts,\n",
    "    rewritten_texts,\n",
    "    batch_size=32,\n",
    "    verbose=False,\n",
    "):\n",
    "    scores = (\n",
    "        encode_cls(original_texts, model=model, tokenizer=tokenizer, batch_size=batch_size, verbose=verbose)\n",
    "        * encode_cls(rewritten_texts, model=model, tokenizer=tokenizer, batch_size=batch_size, verbose=verbose)\n",
    "    ).sum(1)\n",
    "    return rotation_calibration(scores, 1.50)"
   ]
  },
  {
   "cell_type": "code",
   "execution_count": 78,
   "metadata": {},
   "outputs": [],
   "source": [
    "meaning_model, meaning_tokenizer = load_model('cointegrated/LaBSE-en-ru', model_class=AutoModel)"
   ]
  },
  {
   "cell_type": "code",
   "execution_count": 79,
   "metadata": {},
   "outputs": [
    {
     "data": {
      "text/html": [
       "<div>\n",
       "<style scoped>\n",
       "    .dataframe tbody tr th:only-of-type {\n",
       "        vertical-align: middle;\n",
       "    }\n",
       "\n",
       "    .dataframe tbody tr th {\n",
       "        vertical-align: top;\n",
       "    }\n",
       "\n",
       "    .dataframe thead th {\n",
       "        text-align: right;\n",
       "    }\n",
       "</style>\n",
       "<table border=\"1\" class=\"dataframe\">\n",
       "  <thead>\n",
       "    <tr style=\"text-align: right;\">\n",
       "      <th></th>\n",
       "      <th>toxic_comment</th>\n",
       "      <th>neutral_comment</th>\n",
       "      <th>sta</th>\n",
       "    </tr>\n",
       "  </thead>\n",
       "  <tbody>\n",
       "    <tr>\n",
       "      <th>0</th>\n",
       "      <td>и,чё,блядь где этот херой был до этого со свои...</td>\n",
       "      <td>Ну и где этот герой был,со своими доказательст...</td>\n",
       "      <td>0.930739</td>\n",
       "    </tr>\n",
       "    <tr>\n",
       "      <th>1</th>\n",
       "      <td>О, а есть деанон этого петуха?</td>\n",
       "      <td>О, а есть деанон</td>\n",
       "      <td>0.993206</td>\n",
       "    </tr>\n",
       "    <tr>\n",
       "      <th>2</th>\n",
       "      <td>херну всякую пишут,из-за этого лайка.долбоебизм.</td>\n",
       "      <td>Чушь всякую пишут, из- за этого лайка.</td>\n",
       "      <td>0.783893</td>\n",
       "    </tr>\n",
       "    <tr>\n",
       "      <th>3</th>\n",
       "      <td>из за таких пидоров мы и страдаем</td>\n",
       "      <td>из за таких плохих людей мы и страдаем</td>\n",
       "      <td>0.995441</td>\n",
       "    </tr>\n",
       "    <tr>\n",
       "      <th>4</th>\n",
       "      <td>гондон путинский он а не артист</td>\n",
       "      <td>Человек Путина он, а не артист</td>\n",
       "      <td>0.650007</td>\n",
       "    </tr>\n",
       "  </tbody>\n",
       "</table>\n",
       "</div>"
      ],
      "text/plain": [
       "                                       toxic_comment  \\\n",
       "0  и,чё,блядь где этот херой был до этого со свои...   \n",
       "1                     О, а есть деанон этого петуха?   \n",
       "2   херну всякую пишут,из-за этого лайка.долбоебизм.   \n",
       "3                  из за таких пидоров мы и страдаем   \n",
       "4                    гондон путинский он а не артист   \n",
       "\n",
       "                                     neutral_comment       sta  \n",
       "0  Ну и где этот герой был,со своими доказательст...  0.930739  \n",
       "1                                   О, а есть деанон  0.993206  \n",
       "2             Чушь всякую пишут, из- за этого лайка.  0.783893  \n",
       "3             из за таких плохих людей мы и страдаем  0.995441  \n",
       "4                     Человек Путина он, а не артист  0.650007  "
      ]
     },
     "execution_count": 79,
     "metadata": {},
     "output_type": "execute_result"
    }
   ],
   "source": [
    "train.head()"
   ]
  },
  {
   "cell_type": "code",
   "execution_count": 80,
   "metadata": {},
   "outputs": [
    {
     "name": "stderr",
     "output_type": "stream",
     "text": [
      "100%|██████████| 341/341 [18:19<00:00,  3.22s/it]\n",
      "100%|██████████| 341/341 [14:26<00:00,  2.54s/it]\n"
     ]
    }
   ],
   "source": [
    "similarity = evaluate_cosine_similarity(\n",
    "    model = meaning_model,\n",
    "    tokenizer = meaning_tokenizer,\n",
    "    original_texts = list(train['toxic_comment']),\n",
    "    rewritten_texts = list(train['neutral_comment']),\n",
    "    batch_size=32,\n",
    "    verbose=True,\n",
    "    )"
   ]
  },
  {
   "cell_type": "code",
   "execution_count": 82,
   "metadata": {},
   "outputs": [],
   "source": [
    "train['sim'] = similarity"
   ]
  },
  {
   "cell_type": "markdown",
   "metadata": {},
   "source": [
    "### Fluency score (FL)"
   ]
  },
  {
   "cell_type": "code",
   "execution_count": 83,
   "metadata": {},
   "outputs": [],
   "source": [
    "def evaluate_cola_relative(\n",
    "    model,\n",
    "    tokenizer,\n",
    "    original_texts,\n",
    "    rewritten_texts,\n",
    "    target_label=1,\n",
    "    batch_size=32,\n",
    "    verbose=False,\n",
    "    maximum=0,\n",
    "):\n",
    "    target_label = prepare_target_label(model, target_label)\n",
    "    original_scores = classify_texts(\n",
    "        model, tokenizer,\n",
    "        original_texts,\n",
    "        batch_size=batch_size, verbose=verbose, target_label=target_label\n",
    "    )\n",
    "    rewritten_scores = classify_texts(\n",
    "        model, tokenizer,\n",
    "        rewritten_texts,\n",
    "        batch_size=batch_size, verbose=verbose, target_label=target_label\n",
    "    )\n",
    "    scores = rewritten_scores - original_scores\n",
    "    if maximum is not None:\n",
    "        scores = np.minimum(0, scores)\n",
    "    return rotation_calibration(scores, 1.15, px=0)"
   ]
  },
  {
   "cell_type": "code",
   "execution_count": 85,
   "metadata": {},
   "outputs": [],
   "source": [
    "cola_model, cola_tolenizer = load_model('SkolkovoInstitute/rubert-base-corruption-detector')"
   ]
  },
  {
   "cell_type": "code",
   "execution_count": 86,
   "metadata": {},
   "outputs": [
    {
     "name": "stderr",
     "output_type": "stream",
     "text": [
      "100%|██████████| 341/341 [18:11<00:00,  3.20s/it]\n",
      "100%|██████████| 341/341 [13:23<00:00,  2.36s/it]\n"
     ]
    }
   ],
   "source": [
    "fluency = evaluate_cola_relative(\n",
    "    model = cola_model,\n",
    "    tokenizer = cola_tolenizer,\n",
    "    original_texts = list(train['toxic_comment']),\n",
    "    rewritten_texts = list(train['neutral_comment']),\n",
    "    target_label=1,\n",
    "    batch_size=32,\n",
    "    verbose=True\n",
    ")"
   ]
  },
  {
   "cell_type": "code",
   "execution_count": 87,
   "metadata": {},
   "outputs": [],
   "source": [
    "train['fl'] = fluency"
   ]
  },
  {
   "cell_type": "markdown",
   "metadata": {},
   "source": [
    "### Анализ значений метрик"
   ]
  },
  {
   "cell_type": "code",
   "execution_count": 88,
   "metadata": {},
   "outputs": [
    {
     "data": {
      "text/html": [
       "<div>\n",
       "<style scoped>\n",
       "    .dataframe tbody tr th:only-of-type {\n",
       "        vertical-align: middle;\n",
       "    }\n",
       "\n",
       "    .dataframe tbody tr th {\n",
       "        vertical-align: top;\n",
       "    }\n",
       "\n",
       "    .dataframe thead th {\n",
       "        text-align: right;\n",
       "    }\n",
       "</style>\n",
       "<table border=\"1\" class=\"dataframe\">\n",
       "  <thead>\n",
       "    <tr style=\"text-align: right;\">\n",
       "      <th></th>\n",
       "      <th>sta</th>\n",
       "      <th>sim</th>\n",
       "      <th>fl</th>\n",
       "    </tr>\n",
       "  </thead>\n",
       "  <tbody>\n",
       "    <tr>\n",
       "      <th>count</th>\n",
       "      <td>10883.000000</td>\n",
       "      <td>10883.000000</td>\n",
       "      <td>10883.000000</td>\n",
       "    </tr>\n",
       "    <tr>\n",
       "      <th>mean</th>\n",
       "      <td>0.821271</td>\n",
       "      <td>0.695179</td>\n",
       "      <td>0.821610</td>\n",
       "    </tr>\n",
       "    <tr>\n",
       "      <th>std</th>\n",
       "      <td>0.285058</td>\n",
       "      <td>0.227275</td>\n",
       "      <td>0.207567</td>\n",
       "    </tr>\n",
       "    <tr>\n",
       "      <th>min</th>\n",
       "      <td>0.103723</td>\n",
       "      <td>0.000000</td>\n",
       "      <td>0.000000</td>\n",
       "    </tr>\n",
       "    <tr>\n",
       "      <th>25%</th>\n",
       "      <td>0.774299</td>\n",
       "      <td>0.571673</td>\n",
       "      <td>0.706289</td>\n",
       "    </tr>\n",
       "    <tr>\n",
       "      <th>50%</th>\n",
       "      <td>0.983222</td>\n",
       "      <td>0.750988</td>\n",
       "      <td>0.900046</td>\n",
       "    </tr>\n",
       "    <tr>\n",
       "      <th>75%</th>\n",
       "      <td>0.997266</td>\n",
       "      <td>0.873170</td>\n",
       "      <td>1.000000</td>\n",
       "    </tr>\n",
       "    <tr>\n",
       "      <th>max</th>\n",
       "      <td>0.999765</td>\n",
       "      <td>1.000000</td>\n",
       "      <td>1.000000</td>\n",
       "    </tr>\n",
       "  </tbody>\n",
       "</table>\n",
       "</div>"
      ],
      "text/plain": [
       "                sta           sim            fl\n",
       "count  10883.000000  10883.000000  10883.000000\n",
       "mean       0.821271      0.695179      0.821610\n",
       "std        0.285058      0.227275      0.207567\n",
       "min        0.103723      0.000000      0.000000\n",
       "25%        0.774299      0.571673      0.706289\n",
       "50%        0.983222      0.750988      0.900046\n",
       "75%        0.997266      0.873170      1.000000\n",
       "max        0.999765      1.000000      1.000000"
      ]
     },
     "execution_count": 88,
     "metadata": {},
     "output_type": "execute_result"
    }
   ],
   "source": [
    "train.describe()"
   ]
  },
  {
   "cell_type": "markdown",
   "metadata": {},
   "source": [
    "Можем видеть, что есть строки с низкими показателями целевых метрик. Рассмотрим строки с низкими значениями."
   ]
  },
  {
   "cell_type": "markdown",
   "metadata": {},
   "source": [
    "Низкое значение `STA` говорит о том, что эти нейтральные примеры с низкой вероятностью классифицируются как нейтральные. Посмотрим на 10 случайных примеров с `STA` < 0.5."
   ]
  },
  {
   "cell_type": "code",
   "execution_count": 101,
   "metadata": {},
   "outputs": [
    {
     "data": {
      "text/html": [
       "<div>\n",
       "<style scoped>\n",
       "    .dataframe tbody tr th:only-of-type {\n",
       "        vertical-align: middle;\n",
       "    }\n",
       "\n",
       "    .dataframe tbody tr th {\n",
       "        vertical-align: top;\n",
       "    }\n",
       "\n",
       "    .dataframe thead th {\n",
       "        text-align: right;\n",
       "    }\n",
       "</style>\n",
       "<table border=\"1\" class=\"dataframe\">\n",
       "  <thead>\n",
       "    <tr style=\"text-align: right;\">\n",
       "      <th></th>\n",
       "      <th>toxic_comment</th>\n",
       "      <th>neutral_comment</th>\n",
       "      <th>sta</th>\n",
       "      <th>sim</th>\n",
       "      <th>fl</th>\n",
       "    </tr>\n",
       "  </thead>\n",
       "  <tbody>\n",
       "    <tr>\n",
       "      <th>7774</th>\n",
       "      <td>урод ! сам не служил поэтому и не знает что та...</td>\n",
       "      <td>Мужик!Сам не служил поэтому и не знает что так...</td>\n",
       "      <td>0.193771</td>\n",
       "      <td>0.873944</td>\n",
       "      <td>0.899937</td>\n",
       "    </tr>\n",
       "    <tr>\n",
       "      <th>3097</th>\n",
       "      <td>долбаебы хотите чтоб было как на украине разру...</td>\n",
       "      <td>Хотите, чтоб было как на Украине разруха, бара...</td>\n",
       "      <td>0.302872</td>\n",
       "      <td>0.896867</td>\n",
       "      <td>0.917430</td>\n",
       "    </tr>\n",
       "    <tr>\n",
       "      <th>1306</th>\n",
       "      <td>Вроде его там на попиле военных бюджетов пойма...</td>\n",
       "      <td>Вроде его там на попиле военных бюджетов пойма...</td>\n",
       "      <td>0.230828</td>\n",
       "      <td>0.991631</td>\n",
       "      <td>1.000000</td>\n",
       "    </tr>\n",
       "    <tr>\n",
       "      <th>6385</th>\n",
       "      <td>Пошла гулять с поцанами???Знай ты меня потерял...</td>\n",
       "      <td>Пошла изменять с пацанами??? Знай, ты меня пот...</td>\n",
       "      <td>0.240541</td>\n",
       "      <td>0.819885</td>\n",
       "      <td>0.936491</td>\n",
       "    </tr>\n",
       "    <tr>\n",
       "      <th>2103</th>\n",
       "      <td>война в абхазии,грузии,приднестровье,украине! ...</td>\n",
       "      <td>Война в Абхазии, Грузии, Приднестровье, Украин...</td>\n",
       "      <td>0.250152</td>\n",
       "      <td>0.907297</td>\n",
       "      <td>0.969017</td>\n",
       "    </tr>\n",
       "    <tr>\n",
       "      <th>3779</th>\n",
       "      <td>Камила! Прости! Я сволочь( Я очень люблю тебя</td>\n",
       "      <td>Камила! Прости!( Я очень люблю тебя</td>\n",
       "      <td>0.297392</td>\n",
       "      <td>0.933569</td>\n",
       "      <td>0.973980</td>\n",
       "    </tr>\n",
       "    <tr>\n",
       "      <th>2198</th>\n",
       "      <td>ничего не напоминает? фашистское скотство. над...</td>\n",
       "      <td>Ничего не напоминает? Надеюсь, их накажут. Нел...</td>\n",
       "      <td>0.468324</td>\n",
       "      <td>0.298732</td>\n",
       "      <td>0.675685</td>\n",
       "    </tr>\n",
       "    <tr>\n",
       "      <th>3424</th>\n",
       "      <td>А ты кто такой?Иди отседова</td>\n",
       "      <td>Вы кто? Уйдите</td>\n",
       "      <td>0.246417</td>\n",
       "      <td>0.725705</td>\n",
       "      <td>0.837017</td>\n",
       "    </tr>\n",
       "    <tr>\n",
       "      <th>7173</th>\n",
       "      <td>ты мне не паспорт ты мне телефон скинь блядень...</td>\n",
       "      <td>Ты мне не паспорт, ты мне телефон скинь.</td>\n",
       "      <td>0.374480</td>\n",
       "      <td>0.908497</td>\n",
       "      <td>0.570649</td>\n",
       "    </tr>\n",
       "    <tr>\n",
       "      <th>1549</th>\n",
       "      <td>стрелять того кто их пустил сюда</td>\n",
       "      <td>Того, кто их сюда пустил следовало бы наказать</td>\n",
       "      <td>0.265943</td>\n",
       "      <td>0.610938</td>\n",
       "      <td>1.000000</td>\n",
       "    </tr>\n",
       "  </tbody>\n",
       "</table>\n",
       "</div>"
      ],
      "text/plain": [
       "                                          toxic_comment  \\\n",
       "7774  урод ! сам не служил поэтому и не знает что та...   \n",
       "3097  долбаебы хотите чтоб было как на украине разру...   \n",
       "1306  Вроде его там на попиле военных бюджетов пойма...   \n",
       "6385  Пошла гулять с поцанами???Знай ты меня потерял...   \n",
       "2103  война в абхазии,грузии,приднестровье,украине! ...   \n",
       "3779      Камила! Прости! Я сволочь( Я очень люблю тебя   \n",
       "2198  ничего не напоминает? фашистское скотство. над...   \n",
       "3424                        А ты кто такой?Иди отседова   \n",
       "7173  ты мне не паспорт ты мне телефон скинь блядень...   \n",
       "1549                   стрелять того кто их пустил сюда   \n",
       "\n",
       "                                        neutral_comment       sta       sim  \\\n",
       "7774  Мужик!Сам не служил поэтому и не знает что так...  0.193771  0.873944   \n",
       "3097  Хотите, чтоб было как на Украине разруха, бара...  0.302872  0.896867   \n",
       "1306  Вроде его там на попиле военных бюджетов пойма...  0.230828  0.991631   \n",
       "6385  Пошла изменять с пацанами??? Знай, ты меня пот...  0.240541  0.819885   \n",
       "2103  Война в Абхазии, Грузии, Приднестровье, Украин...  0.250152  0.907297   \n",
       "3779                Камила! Прости!( Я очень люблю тебя  0.297392  0.933569   \n",
       "2198  Ничего не напоминает? Надеюсь, их накажут. Нел...  0.468324  0.298732   \n",
       "3424                                     Вы кто? Уйдите  0.246417  0.725705   \n",
       "7173           Ты мне не паспорт, ты мне телефон скинь.  0.374480  0.908497   \n",
       "1549     Того, кто их сюда пустил следовало бы наказать  0.265943  0.610938   \n",
       "\n",
       "            fl  \n",
       "7774  0.899937  \n",
       "3097  0.917430  \n",
       "1306  1.000000  \n",
       "6385  0.936491  \n",
       "2103  0.969017  \n",
       "3779  0.973980  \n",
       "2198  0.675685  \n",
       "3424  0.837017  \n",
       "7173  0.570649  \n",
       "1549  1.000000  "
      ]
     },
     "execution_count": 101,
     "metadata": {},
     "output_type": "execute_result"
    }
   ],
   "source": [
    "train[train.sta < 0.5].sample(10)"
   ]
  },
  {
   "cell_type": "markdown",
   "metadata": {},
   "source": [
    "В целях максимизации этой метрики, уберем из данных примеры, у которых `STA` меньше 0.5. "
   ]
  },
  {
   "cell_type": "code",
   "execution_count": 102,
   "metadata": {},
   "outputs": [],
   "source": [
    "train = train[train.sta >= 0.5]"
   ]
  },
  {
   "cell_type": "markdown",
   "metadata": {},
   "source": [
    "Теперь посмотрим на низкие значение `SIM`: модель считает, что изначальный \"токсичный\" комментарий и парафразированный нейтральный комментарий не похожи друг на друга."
   ]
  },
  {
   "cell_type": "code",
   "execution_count": 113,
   "metadata": {},
   "outputs": [
    {
     "data": {
      "text/html": [
       "<div>\n",
       "<style scoped>\n",
       "    .dataframe tbody tr th:only-of-type {\n",
       "        vertical-align: middle;\n",
       "    }\n",
       "\n",
       "    .dataframe tbody tr th {\n",
       "        vertical-align: top;\n",
       "    }\n",
       "\n",
       "    .dataframe thead th {\n",
       "        text-align: right;\n",
       "    }\n",
       "</style>\n",
       "<table border=\"1\" class=\"dataframe\">\n",
       "  <thead>\n",
       "    <tr style=\"text-align: right;\">\n",
       "      <th></th>\n",
       "      <th>toxic_comment</th>\n",
       "      <th>neutral_comment</th>\n",
       "      <th>sta</th>\n",
       "      <th>sim</th>\n",
       "      <th>fl</th>\n",
       "    </tr>\n",
       "  </thead>\n",
       "  <tbody>\n",
       "    <tr>\n",
       "      <th>8224</th>\n",
       "      <td>СУКПОДЪЕЗД(( чё в итоге будет-то...кому верить...</td>\n",
       "      <td>Чему верить? Сплошной обман .операция по смене...</td>\n",
       "      <td>0.980938</td>\n",
       "      <td>0.308207</td>\n",
       "      <td>0.822622</td>\n",
       "    </tr>\n",
       "    <tr>\n",
       "      <th>4115</th>\n",
       "      <td>Руслан-сучка!!!! всё из-за него...( ПОДАЮ В СУ...</td>\n",
       "      <td>Все из-за Руслана, подаю в суд</td>\n",
       "      <td>0.992815</td>\n",
       "      <td>0.457258</td>\n",
       "      <td>0.994810</td>\n",
       "    </tr>\n",
       "    <tr>\n",
       "      <th>7323</th>\n",
       "      <td>всех блядей кремлев ских поголовно вакцинировать!</td>\n",
       "      <td>Кремль нужно вакцинировать</td>\n",
       "      <td>0.991248</td>\n",
       "      <td>0.396707</td>\n",
       "      <td>0.530743</td>\n",
       "    </tr>\n",
       "    <tr>\n",
       "      <th>10507</th>\n",
       "      <td>пиздец в шк в падлу идти :(</td>\n",
       "      <td>Ужас в школу не хочу идти</td>\n",
       "      <td>0.996892</td>\n",
       "      <td>0.147613</td>\n",
       "      <td>0.810904</td>\n",
       "    </tr>\n",
       "    <tr>\n",
       "      <th>6733</th>\n",
       "      <td>ДЖАСТИН ТИМБЕРЛЕЙК ! ЕГО КОНЦЕРТ 17 ЯНВАРЯ ! А...</td>\n",
       "      <td>Джастин тимберлейк, его концерт 17 января, а я...</td>\n",
       "      <td>0.998793</td>\n",
       "      <td>0.462340</td>\n",
       "      <td>0.648291</td>\n",
       "    </tr>\n",
       "    <tr>\n",
       "      <th>6673</th>\n",
       "      <td>дЖАС, НУ НАПИШИ, ЧТО ЗАМЕТИЛ НАС!!! МЫ ТАК ЭТО...</td>\n",
       "      <td>Напиши что заметил нас, мы тебя любим</td>\n",
       "      <td>0.996320</td>\n",
       "      <td>0.368915</td>\n",
       "      <td>0.935828</td>\n",
       "    </tr>\n",
       "    <tr>\n",
       "      <th>6981</th>\n",
       "      <td>да ни у кого просто пиздобол.</td>\n",
       "      <td>Да ни у кого, просто врет</td>\n",
       "      <td>0.976367</td>\n",
       "      <td>0.495184</td>\n",
       "      <td>0.483422</td>\n",
       "    </tr>\n",
       "    <tr>\n",
       "      <th>5292</th>\n",
       "      <td>не настрій, а хуйня якась(((</td>\n",
       "      <td>Не настроение, а какой-то кошмар.</td>\n",
       "      <td>0.994127</td>\n",
       "      <td>0.238506</td>\n",
       "      <td>0.820905</td>\n",
       "    </tr>\n",
       "    <tr>\n",
       "      <th>104</th>\n",
       "      <td>а она блядь святая чаще пиздец</td>\n",
       "      <td>А она святая, ну да.</td>\n",
       "      <td>0.735838</td>\n",
       "      <td>0.391858</td>\n",
       "      <td>0.940171</td>\n",
       "    </tr>\n",
       "    <tr>\n",
       "      <th>2671</th>\n",
       "      <td>это ты неваляшка пидоряшка за базаром следи еб...</td>\n",
       "      <td>следи за своими словами</td>\n",
       "      <td>0.996644</td>\n",
       "      <td>0.000000</td>\n",
       "      <td>0.335294</td>\n",
       "    </tr>\n",
       "  </tbody>\n",
       "</table>\n",
       "</div>"
      ],
      "text/plain": [
       "                                           toxic_comment  \\\n",
       "8224   СУКПОДЪЕЗД(( чё в итоге будет-то...кому верить...   \n",
       "4115   Руслан-сучка!!!! всё из-за него...( ПОДАЮ В СУ...   \n",
       "7323   всех блядей кремлев ских поголовно вакцинировать!   \n",
       "10507                        пиздец в шк в падлу идти :(   \n",
       "6733   ДЖАСТИН ТИМБЕРЛЕЙК ! ЕГО КОНЦЕРТ 17 ЯНВАРЯ ! А...   \n",
       "6673   дЖАС, НУ НАПИШИ, ЧТО ЗАМЕТИЛ НАС!!! МЫ ТАК ЭТО...   \n",
       "6981                       да ни у кого просто пиздобол.   \n",
       "5292                        не настрій, а хуйня якась(((   \n",
       "104                       а она блядь святая чаще пиздец   \n",
       "2671   это ты неваляшка пидоряшка за базаром следи еб...   \n",
       "\n",
       "                                         neutral_comment       sta       sim  \\\n",
       "8224   Чему верить? Сплошной обман .операция по смене...  0.980938  0.308207   \n",
       "4115                      Все из-за Руслана, подаю в суд  0.992815  0.457258   \n",
       "7323                          Кремль нужно вакцинировать  0.991248  0.396707   \n",
       "10507                          Ужас в школу не хочу идти  0.996892  0.147613   \n",
       "6733   Джастин тимберлейк, его концерт 17 января, а я...  0.998793  0.462340   \n",
       "6673               Напиши что заметил нас, мы тебя любим  0.996320  0.368915   \n",
       "6981                           Да ни у кого, просто врет  0.976367  0.495184   \n",
       "5292                   Не настроение, а какой-то кошмар.  0.994127  0.238506   \n",
       "104                                 А она святая, ну да.  0.735838  0.391858   \n",
       "2671                             следи за своими словами  0.996644  0.000000   \n",
       "\n",
       "             fl  \n",
       "8224   0.822622  \n",
       "4115   0.994810  \n",
       "7323   0.530743  \n",
       "10507  0.810904  \n",
       "6733   0.648291  \n",
       "6673   0.935828  \n",
       "6981   0.483422  \n",
       "5292   0.820905  \n",
       "104    0.940171  \n",
       "2671   0.335294  "
      ]
     },
     "execution_count": 113,
     "metadata": {},
     "output_type": "execute_result"
    }
   ],
   "source": [
    "train[train.sim < 0.5].sample(10)"
   ]
  },
  {
   "cell_type": "code",
   "execution_count": 115,
   "metadata": {},
   "outputs": [],
   "source": [
    "# оставим только те примеры, где similarity >= 0.5\n",
    "train = train[train.sim >= 0.5]"
   ]
  },
  {
   "cell_type": "markdown",
   "metadata": {},
   "source": [
    "Низкое значение `Fluency` говорит о том, что нейтральный комментарий звучит плохо с точки зрения языка."
   ]
  },
  {
   "cell_type": "code",
   "execution_count": 116,
   "metadata": {},
   "outputs": [
    {
     "data": {
      "text/html": [
       "<div>\n",
       "<style scoped>\n",
       "    .dataframe tbody tr th:only-of-type {\n",
       "        vertical-align: middle;\n",
       "    }\n",
       "\n",
       "    .dataframe tbody tr th {\n",
       "        vertical-align: top;\n",
       "    }\n",
       "\n",
       "    .dataframe thead th {\n",
       "        text-align: right;\n",
       "    }\n",
       "</style>\n",
       "<table border=\"1\" class=\"dataframe\">\n",
       "  <thead>\n",
       "    <tr style=\"text-align: right;\">\n",
       "      <th></th>\n",
       "      <th>toxic_comment</th>\n",
       "      <th>neutral_comment</th>\n",
       "      <th>sta</th>\n",
       "      <th>sim</th>\n",
       "      <th>fl</th>\n",
       "    </tr>\n",
       "  </thead>\n",
       "  <tbody>\n",
       "    <tr>\n",
       "      <th>10100</th>\n",
       "      <td>заебали набирать лайки на чужом горе!!!!</td>\n",
       "      <td>Набирают лайки на чужом горе</td>\n",
       "      <td>0.969777</td>\n",
       "      <td>0.554526</td>\n",
       "      <td>0.235324</td>\n",
       "    </tr>\n",
       "    <tr>\n",
       "      <th>7617</th>\n",
       "      <td>хотя думаю этим пидарасам может понравиться:d</td>\n",
       "      <td>Хотя думаю им может понравиться</td>\n",
       "      <td>0.998458</td>\n",
       "      <td>0.575463</td>\n",
       "      <td>0.353498</td>\n",
       "    </tr>\n",
       "    <tr>\n",
       "      <th>6986</th>\n",
       "      <td>а она блядь святая чаще пиздец</td>\n",
       "      <td>А она святая вообще</td>\n",
       "      <td>0.974102</td>\n",
       "      <td>0.524247</td>\n",
       "      <td>0.497567</td>\n",
       "    </tr>\n",
       "    <tr>\n",
       "      <th>5819</th>\n",
       "      <td>Сижу дома со Славиком,сидит пиздит хуйню:(</td>\n",
       "      <td>Сидим дома со Славика и разговариваем</td>\n",
       "      <td>0.993682</td>\n",
       "      <td>0.731198</td>\n",
       "      <td>0.419246</td>\n",
       "    </tr>\n",
       "    <tr>\n",
       "      <th>3268</th>\n",
       "      <td>этого уебка под суд......без коментов</td>\n",
       "      <td>Этого под суд......без коментов</td>\n",
       "      <td>0.576428</td>\n",
       "      <td>0.857718</td>\n",
       "      <td>0.407362</td>\n",
       "    </tr>\n",
       "    <tr>\n",
       "      <th>9436</th>\n",
       "      <td>мышка пидараска глючит,невозможно играть!(((</td>\n",
       "      <td>Мышка не работает, невозмодно игратт</td>\n",
       "      <td>0.991458</td>\n",
       "      <td>0.561370</td>\n",
       "      <td>0.285812</td>\n",
       "    </tr>\n",
       "    <tr>\n",
       "      <th>8691</th>\n",
       "      <td>очень не хочу на академическую, но бля меня уб...</td>\n",
       "      <td>Не хочу идти на академическую, но надо</td>\n",
       "      <td>0.999004</td>\n",
       "      <td>0.637345</td>\n",
       "      <td>0.297630</td>\n",
       "    </tr>\n",
       "    <tr>\n",
       "      <th>6404</th>\n",
       "      <td>Есть такая категория сук,которые ездят по утра...</td>\n",
       "      <td>Есть такая категория людей, которые ездят по у...</td>\n",
       "      <td>0.984493</td>\n",
       "      <td>0.842713</td>\n",
       "      <td>0.256461</td>\n",
       "    </tr>\n",
       "    <tr>\n",
       "      <th>5579</th>\n",
       "      <td>мы любим тех кому похуй на нас(</td>\n",
       "      <td>Мы любим тех, кто к нам равнодушен</td>\n",
       "      <td>0.998495</td>\n",
       "      <td>0.826650</td>\n",
       "      <td>0.442329</td>\n",
       "    </tr>\n",
       "    <tr>\n",
       "      <th>3571</th>\n",
       "      <td>Ты даже не смотришь на меня бесчувственная ско...</td>\n",
       "      <td>Ты даже не смотришь на меня</td>\n",
       "      <td>0.970653</td>\n",
       "      <td>0.652653</td>\n",
       "      <td>0.363853</td>\n",
       "    </tr>\n",
       "  </tbody>\n",
       "</table>\n",
       "</div>"
      ],
      "text/plain": [
       "                                           toxic_comment  \\\n",
       "10100           заебали набирать лайки на чужом горе!!!!   \n",
       "7617       хотя думаю этим пидарасам может понравиться:d   \n",
       "6986                      а она блядь святая чаще пиздец   \n",
       "5819          Сижу дома со Славиком,сидит пиздит хуйню:(   \n",
       "3268               этого уебка под суд......без коментов   \n",
       "9436        мышка пидараска глючит,невозможно играть!(((   \n",
       "8691   очень не хочу на академическую, но бля меня уб...   \n",
       "6404   Есть такая категория сук,которые ездят по утра...   \n",
       "5579                     мы любим тех кому похуй на нас(   \n",
       "3571   Ты даже не смотришь на меня бесчувственная ско...   \n",
       "\n",
       "                                         neutral_comment       sta       sim  \\\n",
       "10100                       Набирают лайки на чужом горе  0.969777  0.554526   \n",
       "7617                     Хотя думаю им может понравиться  0.998458  0.575463   \n",
       "6986                                 А она святая вообще  0.974102  0.524247   \n",
       "5819               Сидим дома со Славика и разговариваем  0.993682  0.731198   \n",
       "3268                     Этого под суд......без коментов  0.576428  0.857718   \n",
       "9436                Мышка не работает, невозмодно игратт  0.991458  0.561370   \n",
       "8691              Не хочу идти на академическую, но надо  0.999004  0.637345   \n",
       "6404   Есть такая категория людей, которые ездят по у...  0.984493  0.842713   \n",
       "5579                  Мы любим тех, кто к нам равнодушен  0.998495  0.826650   \n",
       "3571                         Ты даже не смотришь на меня  0.970653  0.652653   \n",
       "\n",
       "             fl  \n",
       "10100  0.235324  \n",
       "7617   0.353498  \n",
       "6986   0.497567  \n",
       "5819   0.419246  \n",
       "3268   0.407362  \n",
       "9436   0.285812  \n",
       "8691   0.297630  \n",
       "6404   0.256461  \n",
       "5579   0.442329  \n",
       "3571   0.363853  "
      ]
     },
     "execution_count": 116,
     "metadata": {},
     "output_type": "execute_result"
    }
   ],
   "source": [
    "train[train.fl < 0.5].sample(10)"
   ]
  },
  {
   "cell_type": "code",
   "execution_count": 118,
   "metadata": {},
   "outputs": [],
   "source": [
    "train = train[train.fl >= 0.5]"
   ]
  },
  {
   "cell_type": "code",
   "execution_count": 119,
   "metadata": {},
   "outputs": [
    {
     "data": {
      "text/plain": [
       "(6605, 5)"
      ]
     },
     "execution_count": 119,
     "metadata": {},
     "output_type": "execute_result"
    }
   ],
   "source": [
    "train.shape"
   ]
  },
  {
   "cell_type": "markdown",
   "metadata": {},
   "source": [
    "Мы уменьшили количество обучающих примеров до 6605. Сохраним новый датасет."
   ]
  },
  {
   "cell_type": "code",
   "execution_count": 120,
   "metadata": {},
   "outputs": [],
   "source": [
    "train[['toxic_comment', 'neutral_comment']].to_csv('train_preprocessed.tsv', sep='\\t')"
   ]
  },
  {
   "cell_type": "markdown",
   "metadata": {},
   "source": []
  }
 ],
 "metadata": {
  "kernelspec": {
   "display_name": "Python 3 (ipykernel)",
   "language": "python",
   "name": "python3"
  },
  "language_info": {
   "codemirror_mode": {
    "name": "ipython",
    "version": 3
   },
   "file_extension": ".py",
   "mimetype": "text/x-python",
   "name": "python",
   "nbconvert_exporter": "python",
   "pygments_lexer": "ipython3",
   "version": "3.9.12"
  }
 },
 "nbformat": 4,
 "nbformat_minor": 2
}
