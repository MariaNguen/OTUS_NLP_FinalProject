{
 "cells": [
  {
   "attachments": {},
   "cell_type": "markdown",
   "metadata": {},
   "source": [
    "# Detoxification. Preprocessing data"
   ]
  },
  {
   "cell_type": "code",
   "execution_count": 1,
   "metadata": {},
   "outputs": [],
   "source": [
    "import pandas as pd\n",
    "import numpy as np\n",
    "from tqdm import trange"
   ]
  },
  {
   "cell_type": "code",
   "execution_count": 2,
   "metadata": {},
   "outputs": [
    {
     "name": "stdout",
     "output_type": "stream",
     "text": [
      "Number of training sentences: 6,948\n",
      "\n"
     ]
    },
    {
     "data": {
      "text/html": [
       "<div>\n",
       "<style scoped>\n",
       "    .dataframe tbody tr th:only-of-type {\n",
       "        vertical-align: middle;\n",
       "    }\n",
       "\n",
       "    .dataframe tbody tr th {\n",
       "        vertical-align: top;\n",
       "    }\n",
       "\n",
       "    .dataframe thead th {\n",
       "        text-align: right;\n",
       "    }\n",
       "</style>\n",
       "<table border=\"1\" class=\"dataframe\">\n",
       "  <thead>\n",
       "    <tr style=\"text-align: right;\">\n",
       "      <th></th>\n",
       "      <th>toxic_comment</th>\n",
       "      <th>neutral_comment1</th>\n",
       "      <th>neutral_comment2</th>\n",
       "      <th>neutral_comment3</th>\n",
       "    </tr>\n",
       "    <tr>\n",
       "      <th>index</th>\n",
       "      <th></th>\n",
       "      <th></th>\n",
       "      <th></th>\n",
       "      <th></th>\n",
       "    </tr>\n",
       "  </thead>\n",
       "  <tbody>\n",
       "    <tr>\n",
       "      <th>6581</th>\n",
       "      <td>АХАХАХХАФАКФАААААААКЮЛЯМНЕ НАДО СТИХ УЧИТЬФААА...</td>\n",
       "      <td>Мне надо стих учить( я пошёл,ночь будет веселой</td>\n",
       "      <td>NaN</td>\n",
       "      <td>NaN</td>\n",
       "    </tr>\n",
       "    <tr>\n",
       "      <th>5423</th>\n",
       "      <td>ащщ ты изверг ХДД аааааа как можно, бля, ааа Н...</td>\n",
       "      <td>Как можно, Никкун, почему он сейчас так похуде...</td>\n",
       "      <td>NaN</td>\n",
       "      <td>NaN</td>\n",
       "    </tr>\n",
       "    <tr>\n",
       "      <th>5789</th>\n",
       "      <td>мне самое хуевое досталось - чистить картошку ...</td>\n",
       "      <td>Мне самое нудное досталось, чистить картошку,н...</td>\n",
       "      <td>NaN</td>\n",
       "      <td>NaN</td>\n",
       "    </tr>\n",
       "    <tr>\n",
       "      <th>5078</th>\n",
       "      <td>Илюш , прости ...(Я идиотка не дала спать тебе...</td>\n",
       "      <td>Илюш, прости, я не дала спать тебе, прости</td>\n",
       "      <td>NaN</td>\n",
       "      <td>NaN</td>\n",
       "    </tr>\n",
       "    <tr>\n",
       "      <th>4350</th>\n",
       "      <td>Хочу спать просто пиздец как. Не выспалась воо...</td>\n",
       "      <td>Очень хочу спать не выспалась</td>\n",
       "      <td>Сильно хочу спать.не выспалась вообще</td>\n",
       "      <td>Хочу спать очень сильно. Не выспалась вообще</td>\n",
       "    </tr>\n",
       "    <tr>\n",
       "      <th>2803</th>\n",
       "      <td>Не лезь, она тебя сожрет!!!</td>\n",
       "      <td>не лезь, она тебя съест!!!</td>\n",
       "      <td>NaN</td>\n",
       "      <td>NaN</td>\n",
       "    </tr>\n",
       "    <tr>\n",
       "      <th>4407</th>\n",
       "      <td>Я в шоке от таких действий, твой звонок измени...</td>\n",
       "      <td>Я в шоке от таких действий, твой звонок измени...</td>\n",
       "      <td>Я в шоке от твоих действий, твой звонок измени...</td>\n",
       "      <td>NaN</td>\n",
       "    </tr>\n",
       "    <tr>\n",
       "      <th>3676</th>\n",
       "      <td>Пиздец! Похоже, что кто-то из наших патрулю по...</td>\n",
       "      <td>Ужас! Похоже, что кто-то из наших патрулю попался</td>\n",
       "      <td>Похоже, что кто-то из наших патрулю попался.</td>\n",
       "      <td>Капец! Похоже, что кто-то из наших патрулю поп...</td>\n",
       "    </tr>\n",
       "    <tr>\n",
       "      <th>2539</th>\n",
       "      <td>на митинги ходят проплаченые пиндосы которым з...</td>\n",
       "      <td>На митинг ходят люди которым заняться нечем</td>\n",
       "      <td>NaN</td>\n",
       "      <td>NaN</td>\n",
       "    </tr>\n",
       "    <tr>\n",
       "      <th>6429</th>\n",
       "      <td>сегодня на моих глазах мужик убил бездомную со...</td>\n",
       "      <td>сегодня на моих глазах мужик убил бездомную со...</td>\n",
       "      <td>NaN</td>\n",
       "      <td>NaN</td>\n",
       "    </tr>\n",
       "  </tbody>\n",
       "</table>\n",
       "</div>"
      ],
      "text/plain": [
       "                                           toxic_comment  \\\n",
       "index                                                      \n",
       "6581   АХАХАХХАФАКФАААААААКЮЛЯМНЕ НАДО СТИХ УЧИТЬФААА...   \n",
       "5423   ащщ ты изверг ХДД аааааа как можно, бля, ааа Н...   \n",
       "5789   мне самое хуевое досталось - чистить картошку ...   \n",
       "5078   Илюш , прости ...(Я идиотка не дала спать тебе...   \n",
       "4350   Хочу спать просто пиздец как. Не выспалась воо...   \n",
       "2803                         Не лезь, она тебя сожрет!!!   \n",
       "4407   Я в шоке от таких действий, твой звонок измени...   \n",
       "3676   Пиздец! Похоже, что кто-то из наших патрулю по...   \n",
       "2539   на митинги ходят проплаченые пиндосы которым з...   \n",
       "6429   сегодня на моих глазах мужик убил бездомную со...   \n",
       "\n",
       "                                        neutral_comment1  \\\n",
       "index                                                      \n",
       "6581     Мне надо стих учить( я пошёл,ночь будет веселой   \n",
       "5423   Как можно, Никкун, почему он сейчас так похуде...   \n",
       "5789   Мне самое нудное досталось, чистить картошку,н...   \n",
       "5078          Илюш, прости, я не дала спать тебе, прости   \n",
       "4350                       Очень хочу спать не выспалась   \n",
       "2803                          не лезь, она тебя съест!!!   \n",
       "4407   Я в шоке от таких действий, твой звонок измени...   \n",
       "3676   Ужас! Похоже, что кто-то из наших патрулю попался   \n",
       "2539         На митинг ходят люди которым заняться нечем   \n",
       "6429   сегодня на моих глазах мужик убил бездомную со...   \n",
       "\n",
       "                                        neutral_comment2  \\\n",
       "index                                                      \n",
       "6581                                                 NaN   \n",
       "5423                                                 NaN   \n",
       "5789                                                 NaN   \n",
       "5078                                                 NaN   \n",
       "4350               Сильно хочу спать.не выспалась вообще   \n",
       "2803                                                 NaN   \n",
       "4407   Я в шоке от твоих действий, твой звонок измени...   \n",
       "3676        Похоже, что кто-то из наших патрулю попался.   \n",
       "2539                                                 NaN   \n",
       "6429                                                 NaN   \n",
       "\n",
       "                                        neutral_comment3  \n",
       "index                                                     \n",
       "6581                                                 NaN  \n",
       "5423                                                 NaN  \n",
       "5789                                                 NaN  \n",
       "5078                                                 NaN  \n",
       "4350        Хочу спать очень сильно. Не выспалась вообще  \n",
       "2803                                                 NaN  \n",
       "4407                                                 NaN  \n",
       "3676   Капец! Похоже, что кто-то из наших патрулю поп...  \n",
       "2539                                                 NaN  \n",
       "6429                                                 NaN  "
      ]
     },
     "execution_count": 2,
     "metadata": {},
     "output_type": "execute_result"
    }
   ],
   "source": [
    "# Load the dataset into a pandas dataframe.\n",
    "train = pd.read_csv(\"./content/train.tsv\", sep='\\t', on_bad_lines='skip', index_col='index')\n",
    "\n",
    "# Report the number of sentences.\n",
    "print('Number of training sentences: {:,}\\n'.format(train.shape[0]))\n",
    "\n",
    "# Display 10 random rows from the data.\n",
    "train.sample(10)"
   ]
  },
  {
   "cell_type": "code",
   "execution_count": 3,
   "metadata": {},
   "outputs": [
    {
     "name": "stdout",
     "output_type": "stream",
     "text": [
      "Number of test sentences: 800\n",
      "\n"
     ]
    },
    {
     "data": {
      "text/html": [
       "<div>\n",
       "<style scoped>\n",
       "    .dataframe tbody tr th:only-of-type {\n",
       "        vertical-align: middle;\n",
       "    }\n",
       "\n",
       "    .dataframe tbody tr th {\n",
       "        vertical-align: top;\n",
       "    }\n",
       "\n",
       "    .dataframe thead th {\n",
       "        text-align: right;\n",
       "    }\n",
       "</style>\n",
       "<table border=\"1\" class=\"dataframe\">\n",
       "  <thead>\n",
       "    <tr style=\"text-align: right;\">\n",
       "      <th></th>\n",
       "      <th>toxic_comment</th>\n",
       "      <th>neutral_comment1</th>\n",
       "      <th>neutral_comment2</th>\n",
       "      <th>neutral_comment3</th>\n",
       "    </tr>\n",
       "  </thead>\n",
       "  <tbody>\n",
       "    <tr>\n",
       "      <th>786</th>\n",
       "      <td>пиздобол ты ! не понимаешь не говори про пролд...</td>\n",
       "      <td>Не понимаешь не говори про продовольствие</td>\n",
       "      <td>NaN</td>\n",
       "      <td>NaN</td>\n",
       "    </tr>\n",
       "    <tr>\n",
       "      <th>498</th>\n",
       "      <td>смотрю в глаза и вижу что.врет,такое желание к...</td>\n",
       "      <td>Смотрю в глаза и вижу что врет. Желание наказать.</td>\n",
       "      <td>Смотрю в глаза и вижу, что врет. Такое желание...</td>\n",
       "      <td>NaN</td>\n",
       "    </tr>\n",
       "    <tr>\n",
       "      <th>323</th>\n",
       "      <td>Дебил Коноплеводство зарубил Хрущ как и многие...</td>\n",
       "      <td>Хрущев коноплеволство запретил как многие друг...</td>\n",
       "      <td>NaN</td>\n",
       "      <td>NaN</td>\n",
       "    </tr>\n",
       "    <tr>\n",
       "      <th>374</th>\n",
       "      <td>пивет как твои дела? как поживает твой старый ...</td>\n",
       "      <td>Привет, как твои дела? Как поживает твой папаша?</td>\n",
       "      <td>привет как твои дела? как поживает твой папа?</td>\n",
       "      <td>NaN</td>\n",
       "    </tr>\n",
       "    <tr>\n",
       "      <th>612</th>\n",
       "      <td>в чем новинка? в пластиковом убогом обвесе? бе...</td>\n",
       "      <td>Что нового? Пластиковый обвес?</td>\n",
       "      <td>NaN</td>\n",
       "      <td>NaN</td>\n",
       "    </tr>\n",
       "    <tr>\n",
       "      <th>561</th>\n",
       "      <td>и хера толку что задолбал и все равно все ездя...</td>\n",
       "      <td>Бессмысленный пост. Толку-то? Все всë равно пр...</td>\n",
       "      <td>NaN</td>\n",
       "      <td>NaN</td>\n",
       "    </tr>\n",
       "    <tr>\n",
       "      <th>4</th>\n",
       "      <td>у меня сегодня подобный звонок был. достали го...</td>\n",
       "      <td>у меня сегодня подобный звонок был. Достали.</td>\n",
       "      <td>У меня сегодня подобный звонок был,надоели</td>\n",
       "      <td>NaN</td>\n",
       "    </tr>\n",
       "    <tr>\n",
       "      <th>77</th>\n",
       "      <td>что, нужно жить еще хуже? пиздуй сама, куда пи...</td>\n",
       "      <td>что, нужно жить еще хуже? Иди уже</td>\n",
       "      <td>NaN</td>\n",
       "      <td>NaN</td>\n",
       "    </tr>\n",
       "    <tr>\n",
       "      <th>421</th>\n",
       "      <td>Данные из тупого идиота и руССкого фашиста Мен...</td>\n",
       "      <td>Данные из Менделеева: русских в 1950 году долж...</td>\n",
       "      <td>NaN</td>\n",
       "      <td>NaN</td>\n",
       "    </tr>\n",
       "    <tr>\n",
       "      <th>754</th>\n",
       "      <td>какие молодцы! пусть там и остаются, сволочи!</td>\n",
       "      <td>Какие молодцы! Пускай там остаются</td>\n",
       "      <td>NaN</td>\n",
       "      <td>NaN</td>\n",
       "    </tr>\n",
       "  </tbody>\n",
       "</table>\n",
       "</div>"
      ],
      "text/plain": [
       "                                         toxic_comment  \\\n",
       "786  пиздобол ты ! не понимаешь не говори про пролд...   \n",
       "498  смотрю в глаза и вижу что.врет,такое желание к...   \n",
       "323  Дебил Коноплеводство зарубил Хрущ как и многие...   \n",
       "374  пивет как твои дела? как поживает твой старый ...   \n",
       "612  в чем новинка? в пластиковом убогом обвесе? бе...   \n",
       "561  и хера толку что задолбал и все равно все ездя...   \n",
       "4    у меня сегодня подобный звонок был. достали го...   \n",
       "77   что, нужно жить еще хуже? пиздуй сама, куда пи...   \n",
       "421  Данные из тупого идиота и руССкого фашиста Мен...   \n",
       "754      какие молодцы! пусть там и остаются, сволочи!   \n",
       "\n",
       "                                      neutral_comment1  \\\n",
       "786          Не понимаешь не говори про продовольствие   \n",
       "498  Смотрю в глаза и вижу что врет. Желание наказать.   \n",
       "323  Хрущев коноплеволство запретил как многие друг...   \n",
       "374   Привет, как твои дела? Как поживает твой папаша?   \n",
       "612                     Что нового? Пластиковый обвес?   \n",
       "561  Бессмысленный пост. Толку-то? Все всë равно пр...   \n",
       "4         у меня сегодня подобный звонок был. Достали.   \n",
       "77                   что, нужно жить еще хуже? Иди уже   \n",
       "421  Данные из Менделеева: русских в 1950 году долж...   \n",
       "754                 Какие молодцы! Пускай там остаются   \n",
       "\n",
       "                                      neutral_comment2 neutral_comment3  \n",
       "786                                                NaN              NaN  \n",
       "498  Смотрю в глаза и вижу, что врет. Такое желание...              NaN  \n",
       "323                                                NaN              NaN  \n",
       "374      привет как твои дела? как поживает твой папа?              NaN  \n",
       "612                                                NaN              NaN  \n",
       "561                                                NaN              NaN  \n",
       "4           У меня сегодня подобный звонок был,надоели              NaN  \n",
       "77                                                 NaN              NaN  \n",
       "421                                                NaN              NaN  \n",
       "754                                                NaN              NaN  "
      ]
     },
     "execution_count": 3,
     "metadata": {},
     "output_type": "execute_result"
    }
   ],
   "source": [
    "# Load the dataset into a pandas dataframe.\n",
    "dev = pd.read_csv(\"./content/dev.tsv\", sep='\\t', on_bad_lines='skip')\n",
    "\n",
    "# Report the number of sentences.\n",
    "print('Number of test sentences: {:,}\\n'.format(dev.shape[0]))\n",
    "\n",
    "# Display 10 random rows from the data.\n",
    "dev.sample(10)"
   ]
  },
  {
   "attachments": {},
   "cell_type": "markdown",
   "metadata": {},
   "source": [
    "Преобразуем данные из train таким образом, чтобы у нас было только две колонки: toxic_comment и neutral_comment."
   ]
  },
  {
   "cell_type": "code",
   "execution_count": 4,
   "metadata": {},
   "outputs": [],
   "source": [
    "def concat_neutral_comments(data):\n",
    "    data1 = data[~data['neutral_comment1'].isna()][['toxic_comment', 'neutral_comment1']]\n",
    "    data2 = data[~data['neutral_comment2'].isna()][['toxic_comment', 'neutral_comment2']]\n",
    "    data3 = data[~data['neutral_comment3'].isna()][['toxic_comment', 'neutral_comment3']]\n",
    "    data1.columns = ['toxic_comment', 'neutral_comment']\n",
    "    data2.columns = ['toxic_comment', 'neutral_comment']\n",
    "    data3.columns = ['toxic_comment', 'neutral_comment']\n",
    "\n",
    "    return pd.concat([data1, data2, data3], ignore_index=True)"
   ]
  },
  {
   "cell_type": "code",
   "execution_count": 5,
   "metadata": {},
   "outputs": [],
   "source": [
    "train = concat_neutral_comments(train)"
   ]
  },
  {
   "cell_type": "code",
   "execution_count": 6,
   "metadata": {},
   "outputs": [],
   "source": [
    "dev = concat_neutral_comments(dev)"
   ]
  },
  {
   "cell_type": "code",
   "execution_count": 7,
   "metadata": {},
   "outputs": [
    {
     "data": {
      "text/plain": [
       "207"
      ]
     },
     "execution_count": 7,
     "metadata": {},
     "output_type": "execute_result"
    }
   ],
   "source": [
    "# Проверим данные на дубликаты\n",
    "train.duplicated().sum()"
   ]
  },
  {
   "cell_type": "code",
   "execution_count": 8,
   "metadata": {},
   "outputs": [],
   "source": [
    "# удалим дубликаты\n",
    "train = train.drop_duplicates().reset_index().drop('index', axis=1)"
   ]
  },
  {
   "attachments": {},
   "cell_type": "markdown",
   "metadata": {},
   "source": [
    "## Очистка текстов от эмодзи\n",
    "Уберем из данных смайлики, эмодзи и др."
   ]
  },
  {
   "cell_type": "code",
   "execution_count": 9,
   "metadata": {},
   "outputs": [],
   "source": [
    "import re"
   ]
  },
  {
   "cell_type": "code",
   "execution_count": 10,
   "metadata": {},
   "outputs": [],
   "source": [
    "def remove_emoji(string):\n",
    "    emoji_pattern = re.compile(\"[\"\n",
    "                           u\"\\U0001F600-\\U0001F64F\"  # emoticons\n",
    "                           u\"\\U0001F300-\\U0001F5FF\"  # symbols & pictographs\n",
    "                           u\"\\U0001F680-\\U0001F6FF\"  # transport & map symbols\n",
    "                           u\"\\U0001F1E0-\\U0001F1FF\"  # flags (iOS)\n",
    "                           u\"\\U00002702-\\U000027B0\"\n",
    "                           u\"\\U000024C2-\\U0001F251\"\n",
    "                           \"]+\", flags=re.UNICODE)\n",
    "    return emoji_pattern.sub(r'', string)"
   ]
  },
  {
   "cell_type": "code",
   "execution_count": 11,
   "metadata": {},
   "outputs": [],
   "source": [
    "train['toxic_comment'] = train['toxic_comment'].apply(remove_emoji)"
   ]
  },
  {
   "cell_type": "code",
   "execution_count": 12,
   "metadata": {},
   "outputs": [],
   "source": [
    "dev['toxic_comment'] = dev['toxic_comment'].apply(remove_emoji)"
   ]
  },
  {
   "cell_type": "code",
   "execution_count": 13,
   "metadata": {},
   "outputs": [],
   "source": [
    "dev[['toxic_comment', 'neutral_comment']].to_csv('dev_preprocessed2.tsv', sep='\\t')"
   ]
  },
  {
   "attachments": {},
   "cell_type": "markdown",
   "metadata": {},
   "source": [
    "## Подсчет метрик на обучающих данных\n",
    "Мы хотим обучить модели, максимизируя показатели метрик `Style Transfer Accuracy (STA)`, `Meaning Preservation Score (SIM)`, и `Fluency Score (FL)`. Интересно посмотреть, как сейчас обстоит дело с этими метриками в наших обучающих данных. \n",
    "\n",
    "На базе https://github.com/s-nlp/russe_detox_2022/blob/main/evaluation/ru_detoxification_evaluation.ipynb"
   ]
  },
  {
   "cell_type": "code",
   "execution_count": 14,
   "metadata": {},
   "outputs": [
    {
     "name": "stderr",
     "output_type": "stream",
     "text": [
      "C:\\Users\\21142675\\AppData\\Roaming\\Python\\Python310\\site-packages\\tqdm\\auto.py:21: TqdmWarning: IProgress not found. Please update jupyter and ipywidgets. See https://ipywidgets.readthedocs.io/en/stable/user_install.html\n",
      "  from .autonotebook import tqdm as notebook_tqdm\n"
     ]
    }
   ],
   "source": [
    "from transformers import AutoTokenizer, AutoModelForSequenceClassification, AutoModel"
   ]
  },
  {
   "cell_type": "code",
   "execution_count": 15,
   "metadata": {},
   "outputs": [
    {
     "name": "stdout",
     "output_type": "stream",
     "text": [
      "No GPU available, using the CPU instead.\n"
     ]
    }
   ],
   "source": [
    "import torch\n",
    "\n",
    "# If there's a GPU available...\n",
    "if torch.cuda.is_available():\n",
    "\n",
    "    # Tell PyTorch to use the GPU.\n",
    "    device = torch.device(\"cuda\")\n",
    "\n",
    "    print('There are %d GPU(s) available.' % torch.cuda.device_count())\n",
    "\n",
    "    print('We will use the GPU:', torch.cuda.get_device_name(0))\n",
    "\n",
    "# If not...\n",
    "else:\n",
    "    print('No GPU available, using the CPU instead.')\n",
    "    device = torch.device(\"cpu\")"
   ]
  },
  {
   "cell_type": "code",
   "execution_count": 16,
   "metadata": {},
   "outputs": [],
   "source": [
    "def load_model(model_name=None, model=None, tokenizer=None,\n",
    "               model_class=AutoModelForSequenceClassification, use_cuda=True):\n",
    "    if model is None:\n",
    "        if model_name is None:\n",
    "            raise ValueError('Either model or model_name should be provided')\n",
    "        model = model_class.from_pretrained(model_name)\n",
    "        if torch.cuda.is_available() and use_cuda:\n",
    "            model.cuda()\n",
    "    if tokenizer is None:\n",
    "        if model_name is None:\n",
    "            raise ValueError('Either tokenizer or model_name should be provided')\n",
    "        tokenizer = AutoTokenizer.from_pretrained(model_name)\n",
    "    return model, tokenizer"
   ]
  },
  {
   "attachments": {},
   "cell_type": "markdown",
   "metadata": {},
   "source": [
    "### Style Transfer Accuracy (STA)"
   ]
  },
  {
   "cell_type": "code",
   "execution_count": 17,
   "metadata": {},
   "outputs": [],
   "source": [
    "def prepare_target_label(model, target_label):\n",
    "    if target_label in model.config.id2label:\n",
    "        pass\n",
    "    elif target_label in model.config.label2id:\n",
    "        target_label = model.config.label2id.get(target_label)\n",
    "    elif target_label.isnumeric() and int(target_label) in model.config.id2label:\n",
    "        target_label = int(target_label)\n",
    "    else:\n",
    "        raise ValueError(f'target_label \"{target_label}\" is not in model labels or ids: {model.config.id2label}.')\n",
    "    return target_label"
   ]
  },
  {
   "cell_type": "code",
   "execution_count": 18,
   "metadata": {},
   "outputs": [],
   "source": [
    "def classify_texts(model, tokenizer, texts, second_texts=None, target_label=None, batch_size=32, verbose=False):\n",
    "    target_label = prepare_target_label(model, target_label)\n",
    "    res = []\n",
    "    if verbose:\n",
    "        tq = trange\n",
    "    else:\n",
    "        tq = range\n",
    "    for i in tq(0, len(texts), batch_size):\n",
    "        inputs = [texts[i:i+batch_size]]\n",
    "        if second_texts is not None:\n",
    "            inputs.append(second_texts[i:i+batch_size])\n",
    "        inputs = tokenizer(*inputs, return_tensors='pt', padding=True, truncation=True, max_length=512).to(model.device)\n",
    "        with torch.no_grad():\n",
    "            preds = torch.softmax(model(**inputs).logits, -1)[:, target_label].cpu().numpy()\n",
    "        res.append(preds)\n",
    "    return np.concatenate(res)"
   ]
  },
  {
   "cell_type": "code",
   "execution_count": 19,
   "metadata": {},
   "outputs": [],
   "source": [
    "def rotation_calibration(data, coef=1.0, px=1, py=1, minimum=0, maximum=1):\n",
    "    result = (data - px) * coef + py\n",
    "    if minimum is not None:\n",
    "        result = np.maximum(minimum, result)\n",
    "    if maximum is not None:\n",
    "        result = np.minimum(maximum, result)\n",
    "    return result"
   ]
  },
  {
   "cell_type": "code",
   "execution_count": 20,
   "metadata": {},
   "outputs": [],
   "source": [
    "def evaluate_style(\n",
    "    model,\n",
    "    tokenizer,\n",
    "    texts,\n",
    "    target_label=1,  # 1 is toxic, 0 is neutral\n",
    "    batch_size=32,\n",
    "    verbose=False\n",
    "):\n",
    "    target_label = prepare_target_label(model, target_label)\n",
    "    scores = classify_texts(\n",
    "        model,\n",
    "        tokenizer,\n",
    "        texts,\n",
    "        batch_size=batch_size, verbose=verbose, target_label=target_label\n",
    "    )\n",
    "    return rotation_calibration(scores, 0.90)"
   ]
  },
  {
   "cell_type": "code",
   "execution_count": 21,
   "metadata": {},
   "outputs": [],
   "source": [
    "style_model, style_tokenizer = load_model('SkolkovoInstitute/russian_toxicity_classifier')"
   ]
  },
  {
   "cell_type": "code",
   "execution_count": 22,
   "metadata": {},
   "outputs": [
    {
     "name": "stderr",
     "output_type": "stream",
     "text": [
      "100%|██████████| 341/341 [11:02<00:00,  1.94s/it]\n"
     ]
    }
   ],
   "source": [
    "accuracy = evaluate_style(\n",
    "    model = style_model,\n",
    "    tokenizer = style_tokenizer,\n",
    "    texts = list(train['neutral_comment']),\n",
    "    target_label=0,  # 1 is toxic, 0 is neutral\n",
    "    batch_size=32,\n",
    "    verbose=True\n",
    ")"
   ]
  },
  {
   "cell_type": "code",
   "execution_count": 23,
   "metadata": {},
   "outputs": [],
   "source": [
    "train['sta'] = accuracy"
   ]
  },
  {
   "attachments": {},
   "cell_type": "markdown",
   "metadata": {},
   "source": [
    "### Meaning Preservation Score (SIM)"
   ]
  },
  {
   "cell_type": "code",
   "execution_count": 24,
   "metadata": {},
   "outputs": [],
   "source": [
    "def encode_cls(texts, model, tokenizer, batch_size=32, verbose=False):\n",
    "    results = []\n",
    "    if verbose:\n",
    "        tq = trange\n",
    "    else:\n",
    "        tq = range\n",
    "    for i in tq(0, len(texts), batch_size):\n",
    "        batch = texts[i: i + batch_size]\n",
    "        with torch.no_grad():\n",
    "            out = model(**tokenizer(batch, return_tensors='pt', padding=True, truncation=True).to(model.device))\n",
    "            embeddings = out.pooler_output\n",
    "            embeddings = torch.nn.functional.normalize(embeddings).cpu().numpy()\n",
    "            results.append(embeddings)\n",
    "    return np.concatenate(results)"
   ]
  },
  {
   "cell_type": "code",
   "execution_count": 25,
   "metadata": {},
   "outputs": [],
   "source": [
    "def evaluate_cosine_similarity(\n",
    "    model,\n",
    "    tokenizer,\n",
    "    original_texts,\n",
    "    rewritten_texts,\n",
    "    batch_size=32,\n",
    "    verbose=False,\n",
    "):\n",
    "    scores = (\n",
    "        encode_cls(original_texts, model=model, tokenizer=tokenizer, batch_size=batch_size, verbose=verbose)\n",
    "        * encode_cls(rewritten_texts, model=model, tokenizer=tokenizer, batch_size=batch_size, verbose=verbose)\n",
    "    ).sum(1)\n",
    "    return rotation_calibration(scores, 1.50)"
   ]
  },
  {
   "cell_type": "code",
   "execution_count": 26,
   "metadata": {},
   "outputs": [],
   "source": [
    "meaning_model, meaning_tokenizer = load_model('cointegrated/LaBSE-en-ru', model_class=AutoModel)"
   ]
  },
  {
   "cell_type": "code",
   "execution_count": 27,
   "metadata": {},
   "outputs": [
    {
     "data": {
      "text/html": [
       "<div>\n",
       "<style scoped>\n",
       "    .dataframe tbody tr th:only-of-type {\n",
       "        vertical-align: middle;\n",
       "    }\n",
       "\n",
       "    .dataframe tbody tr th {\n",
       "        vertical-align: top;\n",
       "    }\n",
       "\n",
       "    .dataframe thead th {\n",
       "        text-align: right;\n",
       "    }\n",
       "</style>\n",
       "<table border=\"1\" class=\"dataframe\">\n",
       "  <thead>\n",
       "    <tr style=\"text-align: right;\">\n",
       "      <th></th>\n",
       "      <th>toxic_comment</th>\n",
       "      <th>neutral_comment</th>\n",
       "      <th>sta</th>\n",
       "    </tr>\n",
       "  </thead>\n",
       "  <tbody>\n",
       "    <tr>\n",
       "      <th>0</th>\n",
       "      <td>и,чё,блядь где этот херой был до этого со свои...</td>\n",
       "      <td>Ну и где этот герой был,со своими доказательст...</td>\n",
       "      <td>0.930739</td>\n",
       "    </tr>\n",
       "    <tr>\n",
       "      <th>1</th>\n",
       "      <td>О, а есть деанон этого петуха?</td>\n",
       "      <td>О, а есть деанон</td>\n",
       "      <td>0.993206</td>\n",
       "    </tr>\n",
       "    <tr>\n",
       "      <th>2</th>\n",
       "      <td>херну всякую пишут,из-за этого лайка.долбоебизм.</td>\n",
       "      <td>Чушь всякую пишут, из- за этого лайка.</td>\n",
       "      <td>0.783893</td>\n",
       "    </tr>\n",
       "    <tr>\n",
       "      <th>3</th>\n",
       "      <td>из за таких пидоров мы и страдаем</td>\n",
       "      <td>из за таких плохих людей мы и страдаем</td>\n",
       "      <td>0.995441</td>\n",
       "    </tr>\n",
       "    <tr>\n",
       "      <th>4</th>\n",
       "      <td>гондон путинский он а не артист</td>\n",
       "      <td>Человек Путина он, а не артист</td>\n",
       "      <td>0.650007</td>\n",
       "    </tr>\n",
       "  </tbody>\n",
       "</table>\n",
       "</div>"
      ],
      "text/plain": [
       "                                       toxic_comment  \\\n",
       "0  и,чё,блядь где этот херой был до этого со свои...   \n",
       "1                     О, а есть деанон этого петуха?   \n",
       "2   херну всякую пишут,из-за этого лайка.долбоебизм.   \n",
       "3                  из за таких пидоров мы и страдаем   \n",
       "4                    гондон путинский он а не артист   \n",
       "\n",
       "                                     neutral_comment       sta  \n",
       "0  Ну и где этот герой был,со своими доказательст...  0.930739  \n",
       "1                                   О, а есть деанон  0.993206  \n",
       "2             Чушь всякую пишут, из- за этого лайка.  0.783893  \n",
       "3             из за таких плохих людей мы и страдаем  0.995441  \n",
       "4                     Человек Путина он, а не артист  0.650007  "
      ]
     },
     "execution_count": 27,
     "metadata": {},
     "output_type": "execute_result"
    }
   ],
   "source": [
    "train.head()"
   ]
  },
  {
   "cell_type": "code",
   "execution_count": 28,
   "metadata": {},
   "outputs": [
    {
     "name": "stderr",
     "output_type": "stream",
     "text": [
      "100%|██████████| 341/341 [17:38<00:00,  3.10s/it]\n",
      "100%|██████████| 341/341 [13:08<00:00,  2.31s/it]\n"
     ]
    }
   ],
   "source": [
    "similarity = evaluate_cosine_similarity(\n",
    "    model = meaning_model,\n",
    "    tokenizer = meaning_tokenizer,\n",
    "    original_texts = list(train['toxic_comment']),\n",
    "    rewritten_texts = list(train['neutral_comment']),\n",
    "    batch_size=32,\n",
    "    verbose=True,\n",
    "    )"
   ]
  },
  {
   "cell_type": "code",
   "execution_count": 29,
   "metadata": {},
   "outputs": [],
   "source": [
    "train['sim'] = similarity"
   ]
  },
  {
   "attachments": {},
   "cell_type": "markdown",
   "metadata": {},
   "source": [
    "### Fluency score (FL)"
   ]
  },
  {
   "cell_type": "code",
   "execution_count": 30,
   "metadata": {},
   "outputs": [],
   "source": [
    "def evaluate_cola_relative(\n",
    "    model,\n",
    "    tokenizer,\n",
    "    original_texts,\n",
    "    rewritten_texts,\n",
    "    target_label=1,\n",
    "    batch_size=32,\n",
    "    verbose=False,\n",
    "    maximum=0,\n",
    "):\n",
    "    target_label = prepare_target_label(model, target_label)\n",
    "    original_scores = classify_texts(\n",
    "        model, tokenizer,\n",
    "        original_texts,\n",
    "        batch_size=batch_size, verbose=verbose, target_label=target_label\n",
    "    )\n",
    "    rewritten_scores = classify_texts(\n",
    "        model, tokenizer,\n",
    "        rewritten_texts,\n",
    "        batch_size=batch_size, verbose=verbose, target_label=target_label\n",
    "    )\n",
    "    scores = rewritten_scores - original_scores\n",
    "    if maximum is not None:\n",
    "        scores = np.minimum(0, scores)\n",
    "    return rotation_calibration(scores, 1.15, px=0)"
   ]
  },
  {
   "cell_type": "code",
   "execution_count": 31,
   "metadata": {},
   "outputs": [],
   "source": [
    "cola_model, cola_tolenizer = load_model('SkolkovoInstitute/rubert-base-corruption-detector')"
   ]
  },
  {
   "cell_type": "code",
   "execution_count": 32,
   "metadata": {},
   "outputs": [
    {
     "name": "stderr",
     "output_type": "stream",
     "text": [
      "100%|██████████| 341/341 [16:38<00:00,  2.93s/it]\n",
      "100%|██████████| 341/341 [12:16<00:00,  2.16s/it]\n"
     ]
    }
   ],
   "source": [
    "fluency = evaluate_cola_relative(\n",
    "    model = cola_model,\n",
    "    tokenizer = cola_tolenizer,\n",
    "    original_texts = list(train['toxic_comment']),\n",
    "    rewritten_texts = list(train['neutral_comment']),\n",
    "    target_label=1,\n",
    "    batch_size=32,\n",
    "    verbose=True\n",
    ")"
   ]
  },
  {
   "cell_type": "code",
   "execution_count": 33,
   "metadata": {},
   "outputs": [],
   "source": [
    "train['fl'] = fluency"
   ]
  },
  {
   "attachments": {},
   "cell_type": "markdown",
   "metadata": {},
   "source": [
    "### Анализ значений метрик"
   ]
  },
  {
   "cell_type": "code",
   "execution_count": 34,
   "metadata": {},
   "outputs": [
    {
     "data": {
      "text/html": [
       "<div>\n",
       "<style scoped>\n",
       "    .dataframe tbody tr th:only-of-type {\n",
       "        vertical-align: middle;\n",
       "    }\n",
       "\n",
       "    .dataframe tbody tr th {\n",
       "        vertical-align: top;\n",
       "    }\n",
       "\n",
       "    .dataframe thead th {\n",
       "        text-align: right;\n",
       "    }\n",
       "</style>\n",
       "<table border=\"1\" class=\"dataframe\">\n",
       "  <thead>\n",
       "    <tr style=\"text-align: right;\">\n",
       "      <th></th>\n",
       "      <th>sta</th>\n",
       "      <th>sim</th>\n",
       "      <th>fl</th>\n",
       "    </tr>\n",
       "  </thead>\n",
       "  <tbody>\n",
       "    <tr>\n",
       "      <th>count</th>\n",
       "      <td>10883.000000</td>\n",
       "      <td>10883.000000</td>\n",
       "      <td>10883.000000</td>\n",
       "    </tr>\n",
       "    <tr>\n",
       "      <th>mean</th>\n",
       "      <td>0.821271</td>\n",
       "      <td>0.696202</td>\n",
       "      <td>0.822664</td>\n",
       "    </tr>\n",
       "    <tr>\n",
       "      <th>std</th>\n",
       "      <td>0.285058</td>\n",
       "      <td>0.226399</td>\n",
       "      <td>0.206701</td>\n",
       "    </tr>\n",
       "    <tr>\n",
       "      <th>min</th>\n",
       "      <td>0.103723</td>\n",
       "      <td>0.000000</td>\n",
       "      <td>0.000000</td>\n",
       "    </tr>\n",
       "    <tr>\n",
       "      <th>25%</th>\n",
       "      <td>0.774299</td>\n",
       "      <td>0.573100</td>\n",
       "      <td>0.708361</td>\n",
       "    </tr>\n",
       "    <tr>\n",
       "      <th>50%</th>\n",
       "      <td>0.983222</td>\n",
       "      <td>0.751730</td>\n",
       "      <td>0.900892</td>\n",
       "    </tr>\n",
       "    <tr>\n",
       "      <th>75%</th>\n",
       "      <td>0.997266</td>\n",
       "      <td>0.873316</td>\n",
       "      <td>1.000000</td>\n",
       "    </tr>\n",
       "    <tr>\n",
       "      <th>max</th>\n",
       "      <td>0.999765</td>\n",
       "      <td>1.000000</td>\n",
       "      <td>1.000000</td>\n",
       "    </tr>\n",
       "  </tbody>\n",
       "</table>\n",
       "</div>"
      ],
      "text/plain": [
       "                sta           sim            fl\n",
       "count  10883.000000  10883.000000  10883.000000\n",
       "mean       0.821271      0.696202      0.822664\n",
       "std        0.285058      0.226399      0.206701\n",
       "min        0.103723      0.000000      0.000000\n",
       "25%        0.774299      0.573100      0.708361\n",
       "50%        0.983222      0.751730      0.900892\n",
       "75%        0.997266      0.873316      1.000000\n",
       "max        0.999765      1.000000      1.000000"
      ]
     },
     "execution_count": 34,
     "metadata": {},
     "output_type": "execute_result"
    }
   ],
   "source": [
    "train.describe()"
   ]
  },
  {
   "attachments": {},
   "cell_type": "markdown",
   "metadata": {},
   "source": [
    "Можем видеть, что есть строки с низкими показателями целевых метрик. Рассмотрим строки с низкими значениями."
   ]
  },
  {
   "attachments": {},
   "cell_type": "markdown",
   "metadata": {},
   "source": [
    "Низкое значение `STA` говорит о том, что эти нейтральные примеры с низкой вероятностью классифицируются как нейтральные. Посмотрим на 10 случайных примеров с `STA` < 0.5."
   ]
  },
  {
   "cell_type": "code",
   "execution_count": 35,
   "metadata": {},
   "outputs": [
    {
     "data": {
      "text/html": [
       "<div>\n",
       "<style scoped>\n",
       "    .dataframe tbody tr th:only-of-type {\n",
       "        vertical-align: middle;\n",
       "    }\n",
       "\n",
       "    .dataframe tbody tr th {\n",
       "        vertical-align: top;\n",
       "    }\n",
       "\n",
       "    .dataframe thead th {\n",
       "        text-align: right;\n",
       "    }\n",
       "</style>\n",
       "<table border=\"1\" class=\"dataframe\">\n",
       "  <thead>\n",
       "    <tr style=\"text-align: right;\">\n",
       "      <th></th>\n",
       "      <th>toxic_comment</th>\n",
       "      <th>neutral_comment</th>\n",
       "      <th>sta</th>\n",
       "      <th>sim</th>\n",
       "      <th>fl</th>\n",
       "    </tr>\n",
       "  </thead>\n",
       "  <tbody>\n",
       "    <tr>\n",
       "      <th>1205</th>\n",
       "      <td>Ну сколько можно издеваться над двачерами? Убе...</td>\n",
       "      <td>Ну сколько можно издеваться над двачерами? Убе...</td>\n",
       "      <td>0.153828</td>\n",
       "      <td>0.986082</td>\n",
       "      <td>0.849457</td>\n",
       "    </tr>\n",
       "    <tr>\n",
       "      <th>3143</th>\n",
       "      <td>а зачем нужно было завоевывать, так же крым, д...</td>\n",
       "      <td>А зачем нужно было завоевывать, так же Крым,До...</td>\n",
       "      <td>0.388235</td>\n",
       "      <td>0.858357</td>\n",
       "      <td>0.760610</td>\n",
       "    </tr>\n",
       "    <tr>\n",
       "      <th>9951</th>\n",
       "      <td>Майли, перестань быть НАСТОЛЬКО сексуальной!  ...</td>\n",
       "      <td>Майли,перестань быть НАСТОЛЬКО сексуальной! Я ...</td>\n",
       "      <td>0.177754</td>\n",
       "      <td>0.961010</td>\n",
       "      <td>0.920790</td>\n",
       "    </tr>\n",
       "    <tr>\n",
       "      <th>1801</th>\n",
       "      <td>У укровоинов дэнь защитника витчызны 14 октября.</td>\n",
       "      <td>У украинских солдат день защитника витчызны 14...</td>\n",
       "      <td>0.243651</td>\n",
       "      <td>0.790081</td>\n",
       "      <td>1.000000</td>\n",
       "    </tr>\n",
       "    <tr>\n",
       "      <th>3430</th>\n",
       "      <td>Постой же, уж я кончу — выехавши из Москвы...</td>\n",
       "      <td>Постой же, уж я завершу — выехавши из Москвы...</td>\n",
       "      <td>0.108102</td>\n",
       "      <td>0.988173</td>\n",
       "      <td>0.857660</td>\n",
       "    </tr>\n",
       "    <tr>\n",
       "      <th>1996</th>\n",
       "      <td>ты сам мразь,молодец олечка! прав лукашенко-не...</td>\n",
       "      <td>Молодец, Олечка! Прав Лукашенко- не уподобился...</td>\n",
       "      <td>0.177407</td>\n",
       "      <td>0.658538</td>\n",
       "      <td>0.819223</td>\n",
       "    </tr>\n",
       "    <tr>\n",
       "      <th>7863</th>\n",
       "      <td>молодчина! так бы всех насильников кастрироват...</td>\n",
       "      <td>Молодчина! Так бы всех насильников наказывать,...</td>\n",
       "      <td>0.124589</td>\n",
       "      <td>0.913563</td>\n",
       "      <td>0.788199</td>\n",
       "    </tr>\n",
       "    <tr>\n",
       "      <th>9612</th>\n",
       "      <td>ЛУЛ КУДА ТЫ ОПЯТЬ СВАЛИЛАА Я ХОТЕЛ ПОГОВОРИТЬ ...</td>\n",
       "      <td>Лул,  куда ты опять ушла? Я хотел поговорить с...</td>\n",
       "      <td>0.237096</td>\n",
       "      <td>0.604156</td>\n",
       "      <td>1.000000</td>\n",
       "    </tr>\n",
       "    <tr>\n",
       "      <th>3511</th>\n",
       "      <td>- Что ты делаешь? Положи это дерьмо обратно.</td>\n",
       "      <td>Что ты делаешь? Положи это обратно.</td>\n",
       "      <td>0.353765</td>\n",
       "      <td>0.846020</td>\n",
       "      <td>1.000000</td>\n",
       "    </tr>\n",
       "    <tr>\n",
       "      <th>3389</th>\n",
       "      <td>долбоёб!)))меня и так устраивает.смотрю тут вс...</td>\n",
       "      <td>Редиска !)) Меня и так устраивает. Смотрю тут ...</td>\n",
       "      <td>0.208826</td>\n",
       "      <td>0.857535</td>\n",
       "      <td>0.884668</td>\n",
       "    </tr>\n",
       "  </tbody>\n",
       "</table>\n",
       "</div>"
      ],
      "text/plain": [
       "                                          toxic_comment  \\\n",
       "1205  Ну сколько можно издеваться над двачерами? Убе...   \n",
       "3143  а зачем нужно было завоевывать, так же крым, д...   \n",
       "9951  Майли, перестань быть НАСТОЛЬКО сексуальной!  ...   \n",
       "1801   У укровоинов дэнь защитника витчызны 14 октября.   \n",
       "3430      Постой же, уж я кончу — выехавши из Москвы...   \n",
       "1996  ты сам мразь,молодец олечка! прав лукашенко-не...   \n",
       "7863  молодчина! так бы всех насильников кастрироват...   \n",
       "9612  ЛУЛ КУДА ТЫ ОПЯТЬ СВАЛИЛАА Я ХОТЕЛ ПОГОВОРИТЬ ...   \n",
       "3511       - Что ты делаешь? Положи это дерьмо обратно.   \n",
       "3389  долбоёб!)))меня и так устраивает.смотрю тут вс...   \n",
       "\n",
       "                                        neutral_comment       sta       sim  \\\n",
       "1205  Ну сколько можно издеваться над двачерами? Убе...  0.153828  0.986082   \n",
       "3143  А зачем нужно было завоевывать, так же Крым,До...  0.388235  0.858357   \n",
       "9951  Майли,перестань быть НАСТОЛЬКО сексуальной! Я ...  0.177754  0.961010   \n",
       "1801  У украинских солдат день защитника витчызны 14...  0.243651  0.790081   \n",
       "3430    Постой же, уж я завершу — выехавши из Москвы...  0.108102  0.988173   \n",
       "1996  Молодец, Олечка! Прав Лукашенко- не уподобился...  0.177407  0.658538   \n",
       "7863  Молодчина! Так бы всех насильников наказывать,...  0.124589  0.913563   \n",
       "9612  Лул,  куда ты опять ушла? Я хотел поговорить с...  0.237096  0.604156   \n",
       "3511                Что ты делаешь? Положи это обратно.  0.353765  0.846020   \n",
       "3389  Редиска !)) Меня и так устраивает. Смотрю тут ...  0.208826  0.857535   \n",
       "\n",
       "            fl  \n",
       "1205  0.849457  \n",
       "3143  0.760610  \n",
       "9951  0.920790  \n",
       "1801  1.000000  \n",
       "3430  0.857660  \n",
       "1996  0.819223  \n",
       "7863  0.788199  \n",
       "9612  1.000000  \n",
       "3511  1.000000  \n",
       "3389  0.884668  "
      ]
     },
     "execution_count": 35,
     "metadata": {},
     "output_type": "execute_result"
    }
   ],
   "source": [
    "train[train.sta < 0.5].sample(10)"
   ]
  },
  {
   "attachments": {},
   "cell_type": "markdown",
   "metadata": {},
   "source": [
    "В целях максимизации этой метрики, уберем из данных примеры, у которых `STA` меньше 0.5. "
   ]
  },
  {
   "cell_type": "code",
   "execution_count": 36,
   "metadata": {},
   "outputs": [],
   "source": [
    "train = train[train.sta >= 0.5]"
   ]
  },
  {
   "attachments": {},
   "cell_type": "markdown",
   "metadata": {},
   "source": [
    "Теперь посмотрим на низкие значение `SIM`: модель считает, что изначальный \"токсичный\" комментарий и парафразированный нейтральный комментарий не похожи друг на друга."
   ]
  },
  {
   "cell_type": "code",
   "execution_count": 37,
   "metadata": {},
   "outputs": [
    {
     "data": {
      "text/html": [
       "<div>\n",
       "<style scoped>\n",
       "    .dataframe tbody tr th:only-of-type {\n",
       "        vertical-align: middle;\n",
       "    }\n",
       "\n",
       "    .dataframe tbody tr th {\n",
       "        vertical-align: top;\n",
       "    }\n",
       "\n",
       "    .dataframe thead th {\n",
       "        text-align: right;\n",
       "    }\n",
       "</style>\n",
       "<table border=\"1\" class=\"dataframe\">\n",
       "  <thead>\n",
       "    <tr style=\"text-align: right;\">\n",
       "      <th></th>\n",
       "      <th>toxic_comment</th>\n",
       "      <th>neutral_comment</th>\n",
       "      <th>sta</th>\n",
       "      <th>sim</th>\n",
       "      <th>fl</th>\n",
       "    </tr>\n",
       "  </thead>\n",
       "  <tbody>\n",
       "    <tr>\n",
       "      <th>10217</th>\n",
       "      <td>КАКОГО ХРЕНА МЕНЯ РЕТВИТЯТ? ЕЩЕ И НЕЗНАКОМЫЕ Л...</td>\n",
       "      <td>Почему меня ретвитят ещё и незнакомые люди</td>\n",
       "      <td>0.960952</td>\n",
       "      <td>0.401711</td>\n",
       "      <td>1.000000</td>\n",
       "    </tr>\n",
       "    <tr>\n",
       "      <th>9630</th>\n",
       "      <td>ну хуй знает(((</td>\n",
       "      <td>не знаю</td>\n",
       "      <td>0.999690</td>\n",
       "      <td>0.343197</td>\n",
       "      <td>0.370360</td>\n",
       "    </tr>\n",
       "    <tr>\n",
       "      <th>3228</th>\n",
       "      <td>ну и чё это за хуйня,автор не наебывай людей.</td>\n",
       "      <td>Автор, ты предоставил ложную информацию</td>\n",
       "      <td>0.797652</td>\n",
       "      <td>0.103416</td>\n",
       "      <td>0.361042</td>\n",
       "    </tr>\n",
       "    <tr>\n",
       "      <th>9197</th>\n",
       "      <td>поч вы еще ретвитите этот ебаный твит(((((((((((</td>\n",
       "      <td>Почемы вы ретвитите этот твит</td>\n",
       "      <td>0.715337</td>\n",
       "      <td>0.482092</td>\n",
       "      <td>0.315832</td>\n",
       "    </tr>\n",
       "    <tr>\n",
       "      <th>4946</th>\n",
       "      <td>ЗВОНОК В 3 ЧАСА НОЧИ...  - АЛЛО,ПРИВЕТ! Я ТЕБЯ...</td>\n",
       "      <td>Звонок в 3 часа ночи …-Алло, привет ! Я тебя р...</td>\n",
       "      <td>0.683612</td>\n",
       "      <td>0.497590</td>\n",
       "      <td>1.000000</td>\n",
       "    </tr>\n",
       "    <tr>\n",
       "      <th>2217</th>\n",
       "      <td>когда вы нод моськи проплаченые заткнете свою ...</td>\n",
       "      <td>Когда вы перестанете нести всякую чепуху?</td>\n",
       "      <td>0.768611</td>\n",
       "      <td>0.244617</td>\n",
       "      <td>1.000000</td>\n",
       "    </tr>\n",
       "    <tr>\n",
       "      <th>6250</th>\n",
       "      <td>НУ КАПЕЦ КАКОГО ХРЕНА ВСЕ ТАК СКЛАДЫВАЕТСЯ((( ...</td>\n",
       "      <td>почему все так складывается, как же важна была...</td>\n",
       "      <td>0.999745</td>\n",
       "      <td>0.406426</td>\n",
       "      <td>1.000000</td>\n",
       "    </tr>\n",
       "    <tr>\n",
       "      <th>1708</th>\n",
       "      <td>Если они будут знать что их могут пристрелить ...</td>\n",
       "      <td>будут знать о наказании не будут плохо поступать</td>\n",
       "      <td>0.999718</td>\n",
       "      <td>0.202480</td>\n",
       "      <td>0.799119</td>\n",
       "    </tr>\n",
       "    <tr>\n",
       "      <th>2270</th>\n",
       "      <td>какая нахуй блять забоа,деньги всё решают</td>\n",
       "      <td>Деньги сейчас решают больше, чем забота</td>\n",
       "      <td>0.999472</td>\n",
       "      <td>0.243949</td>\n",
       "      <td>0.581706</td>\n",
       "    </tr>\n",
       "    <tr>\n",
       "      <th>5150</th>\n",
       "      <td>СУКА Я Ж САМА ПОСМОТРЕТТ ХОТЕЛА :(</td>\n",
       "      <td>Я ж сама посмотреть хотела</td>\n",
       "      <td>0.997156</td>\n",
       "      <td>0.075913</td>\n",
       "      <td>1.000000</td>\n",
       "    </tr>\n",
       "  </tbody>\n",
       "</table>\n",
       "</div>"
      ],
      "text/plain": [
       "                                           toxic_comment  \\\n",
       "10217  КАКОГО ХРЕНА МЕНЯ РЕТВИТЯТ? ЕЩЕ И НЕЗНАКОМЫЕ Л...   \n",
       "9630                                     ну хуй знает(((   \n",
       "3228       ну и чё это за хуйня,автор не наебывай людей.   \n",
       "9197    поч вы еще ретвитите этот ебаный твит(((((((((((   \n",
       "4946   ЗВОНОК В 3 ЧАСА НОЧИ...  - АЛЛО,ПРИВЕТ! Я ТЕБЯ...   \n",
       "2217   когда вы нод моськи проплаченые заткнете свою ...   \n",
       "6250   НУ КАПЕЦ КАКОГО ХРЕНА ВСЕ ТАК СКЛАДЫВАЕТСЯ((( ...   \n",
       "1708   Если они будут знать что их могут пристрелить ...   \n",
       "2270           какая нахуй блять забоа,деньги всё решают   \n",
       "5150                  СУКА Я Ж САМА ПОСМОТРЕТТ ХОТЕЛА :(   \n",
       "\n",
       "                                         neutral_comment       sta       sim  \\\n",
       "10217         Почему меня ретвитят ещё и незнакомые люди  0.960952  0.401711   \n",
       "9630                                             не знаю  0.999690  0.343197   \n",
       "3228             Автор, ты предоставил ложную информацию  0.797652  0.103416   \n",
       "9197                       Почемы вы ретвитите этот твит  0.715337  0.482092   \n",
       "4946   Звонок в 3 часа ночи …-Алло, привет ! Я тебя р...  0.683612  0.497590   \n",
       "2217           Когда вы перестанете нести всякую чепуху?  0.768611  0.244617   \n",
       "6250   почему все так складывается, как же важна была...  0.999745  0.406426   \n",
       "1708    будут знать о наказании не будут плохо поступать  0.999718  0.202480   \n",
       "2270             Деньги сейчас решают больше, чем забота  0.999472  0.243949   \n",
       "5150                          Я ж сама посмотреть хотела  0.997156  0.075913   \n",
       "\n",
       "             fl  \n",
       "10217  1.000000  \n",
       "9630   0.370360  \n",
       "3228   0.361042  \n",
       "9197   0.315832  \n",
       "4946   1.000000  \n",
       "2217   1.000000  \n",
       "6250   1.000000  \n",
       "1708   0.799119  \n",
       "2270   0.581706  \n",
       "5150   1.000000  "
      ]
     },
     "execution_count": 37,
     "metadata": {},
     "output_type": "execute_result"
    }
   ],
   "source": [
    "train[train.sim < 0.5].sample(10)"
   ]
  },
  {
   "cell_type": "code",
   "execution_count": 38,
   "metadata": {},
   "outputs": [],
   "source": [
    "# оставим только те примеры, где similarity >= 0.5\n",
    "train = train[train.sim >= 0.5]"
   ]
  },
  {
   "attachments": {},
   "cell_type": "markdown",
   "metadata": {},
   "source": [
    "Низкое значение `Fluency` говорит о том, что нейтральный комментарий звучит плохо с точки зрения языка."
   ]
  },
  {
   "cell_type": "code",
   "execution_count": 39,
   "metadata": {},
   "outputs": [
    {
     "data": {
      "text/html": [
       "<div>\n",
       "<style scoped>\n",
       "    .dataframe tbody tr th:only-of-type {\n",
       "        vertical-align: middle;\n",
       "    }\n",
       "\n",
       "    .dataframe tbody tr th {\n",
       "        vertical-align: top;\n",
       "    }\n",
       "\n",
       "    .dataframe thead th {\n",
       "        text-align: right;\n",
       "    }\n",
       "</style>\n",
       "<table border=\"1\" class=\"dataframe\">\n",
       "  <thead>\n",
       "    <tr style=\"text-align: right;\">\n",
       "      <th></th>\n",
       "      <th>toxic_comment</th>\n",
       "      <th>neutral_comment</th>\n",
       "      <th>sta</th>\n",
       "      <th>sim</th>\n",
       "      <th>fl</th>\n",
       "    </tr>\n",
       "  </thead>\n",
       "  <tbody>\n",
       "    <tr>\n",
       "      <th>1008</th>\n",
       "      <td>ему 200 раз советовали купить шлюху</td>\n",
       "      <td>Ему 200 раз советовали купить сексуальные услуги</td>\n",
       "      <td>0.991468</td>\n",
       "      <td>0.739535</td>\n",
       "      <td>0.488317</td>\n",
       "    </tr>\n",
       "    <tr>\n",
       "      <th>4335</th>\n",
       "      <td>я буду рыдать как чмо последнее на последних ч...</td>\n",
       "      <td>Я буду сильно рыдать на последних частях</td>\n",
       "      <td>0.925608</td>\n",
       "      <td>0.739061</td>\n",
       "      <td>0.403347</td>\n",
       "    </tr>\n",
       "    <tr>\n",
       "      <th>7076</th>\n",
       "      <td>гиря каспыров из героя ссср и чемпиона мира ст...</td>\n",
       "      <td>Гари Каспаров из героя ссср и чемпиона мира ст...</td>\n",
       "      <td>0.950761</td>\n",
       "      <td>0.747783</td>\n",
       "      <td>0.062871</td>\n",
       "    </tr>\n",
       "    <tr>\n",
       "      <th>3544</th>\n",
       "      <td>кто напомнил про кровь из пальца тот уёба(((</td>\n",
       "      <td>Кто напомнил про кровь из пальца, тот нехороши...</td>\n",
       "      <td>0.552389</td>\n",
       "      <td>0.606524</td>\n",
       "      <td>0.458937</td>\n",
       "    </tr>\n",
       "    <tr>\n",
       "      <th>4758</th>\n",
       "      <td>ой идите нахуй короче со своими пирогами :-(</td>\n",
       "      <td>Не приставай со своими пирогами</td>\n",
       "      <td>0.961900</td>\n",
       "      <td>0.502166</td>\n",
       "      <td>0.465769</td>\n",
       "    </tr>\n",
       "    <tr>\n",
       "      <th>4657</th>\n",
       "      <td>бляя пизданулась с лестнице,спина болит еще си...</td>\n",
       "      <td>блин упалас лестнице,спина болит еще сильнее(</td>\n",
       "      <td>0.999433</td>\n",
       "      <td>0.920979</td>\n",
       "      <td>0.486056</td>\n",
       "    </tr>\n",
       "    <tr>\n",
       "      <th>457</th>\n",
       "      <td>хватит писать хуйню сявки ободранные</td>\n",
       "      <td>Хватит писать бред</td>\n",
       "      <td>0.845002</td>\n",
       "      <td>0.539435</td>\n",
       "      <td>0.396450</td>\n",
       "    </tr>\n",
       "    <tr>\n",
       "      <th>3157</th>\n",
       "      <td>ну что, теперь ты нажрался, ебаный боров сука???</td>\n",
       "      <td>Ну что, теперь ты наелся</td>\n",
       "      <td>0.982246</td>\n",
       "      <td>0.573945</td>\n",
       "      <td>0.310087</td>\n",
       "    </tr>\n",
       "    <tr>\n",
       "      <th>7998</th>\n",
       "      <td>тварь свинина, сидит и ждет сутками, когда ей ...</td>\n",
       "      <td>Она сидит и ждёт сутками когда ей кто-, нибудь...</td>\n",
       "      <td>0.982555</td>\n",
       "      <td>0.755161</td>\n",
       "      <td>0.317839</td>\n",
       "    </tr>\n",
       "    <tr>\n",
       "      <th>2080</th>\n",
       "      <td>уберут усатого пизда белорусии.опять поедут на...</td>\n",
       "      <td>Если уберут президента Белорусии, то снова при...</td>\n",
       "      <td>0.977914</td>\n",
       "      <td>0.591246</td>\n",
       "      <td>0.246256</td>\n",
       "    </tr>\n",
       "  </tbody>\n",
       "</table>\n",
       "</div>"
      ],
      "text/plain": [
       "                                          toxic_comment  \\\n",
       "1008                ему 200 раз советовали купить шлюху   \n",
       "4335  я буду рыдать как чмо последнее на последних ч...   \n",
       "7076  гиря каспыров из героя ссср и чемпиона мира ст...   \n",
       "3544       кто напомнил про кровь из пальца тот уёба(((   \n",
       "4758       ой идите нахуй короче со своими пирогами :-(   \n",
       "4657  бляя пизданулась с лестнице,спина болит еще си...   \n",
       "457                хватит писать хуйню сявки ободранные   \n",
       "3157   ну что, теперь ты нажрался, ебаный боров сука???   \n",
       "7998  тварь свинина, сидит и ждет сутками, когда ей ...   \n",
       "2080  уберут усатого пизда белорусии.опять поедут на...   \n",
       "\n",
       "                                        neutral_comment       sta       sim  \\\n",
       "1008   Ему 200 раз советовали купить сексуальные услуги  0.991468  0.739535   \n",
       "4335           Я буду сильно рыдать на последних частях  0.925608  0.739061   \n",
       "7076  Гари Каспаров из героя ссср и чемпиона мира ст...  0.950761  0.747783   \n",
       "3544  Кто напомнил про кровь из пальца, тот нехороши...  0.552389  0.606524   \n",
       "4758                    Не приставай со своими пирогами  0.961900  0.502166   \n",
       "4657      блин упалас лестнице,спина болит еще сильнее(  0.999433  0.920979   \n",
       "457                                  Хватит писать бред  0.845002  0.539435   \n",
       "3157                           Ну что, теперь ты наелся  0.982246  0.573945   \n",
       "7998  Она сидит и ждёт сутками когда ей кто-, нибудь...  0.982555  0.755161   \n",
       "2080  Если уберут президента Белорусии, то снова при...  0.977914  0.591246   \n",
       "\n",
       "            fl  \n",
       "1008  0.488317  \n",
       "4335  0.403347  \n",
       "7076  0.062871  \n",
       "3544  0.458937  \n",
       "4758  0.465769  \n",
       "4657  0.486056  \n",
       "457   0.396450  \n",
       "3157  0.310087  \n",
       "7998  0.317839  \n",
       "2080  0.246256  "
      ]
     },
     "execution_count": 39,
     "metadata": {},
     "output_type": "execute_result"
    }
   ],
   "source": [
    "train[train.fl < 0.5].sample(10)"
   ]
  },
  {
   "cell_type": "code",
   "execution_count": 40,
   "metadata": {},
   "outputs": [],
   "source": [
    "train = train[train.fl >= 0.5]"
   ]
  },
  {
   "cell_type": "code",
   "execution_count": 41,
   "metadata": {},
   "outputs": [
    {
     "data": {
      "text/plain": [
       "(6617, 5)"
      ]
     },
     "execution_count": 41,
     "metadata": {},
     "output_type": "execute_result"
    }
   ],
   "source": [
    "train.shape"
   ]
  },
  {
   "attachments": {},
   "cell_type": "markdown",
   "metadata": {},
   "source": [
    "Мы уменьшили количество обучающих примеров до 6617. Сохраним новый датасет."
   ]
  },
  {
   "cell_type": "code",
   "execution_count": 42,
   "metadata": {},
   "outputs": [],
   "source": [
    "train[['toxic_comment', 'neutral_comment']].to_csv('train_preprocessed2.tsv', sep='\\t')"
   ]
  },
  {
   "attachments": {},
   "cell_type": "markdown",
   "metadata": {},
   "source": []
  }
 ],
 "metadata": {
  "kernelspec": {
   "display_name": "Python 3",
   "language": "python",
   "name": "python3"
  },
  "language_info": {
   "codemirror_mode": {
    "name": "ipython",
    "version": 3
   },
   "file_extension": ".py",
   "mimetype": "text/x-python",
   "name": "python",
   "nbconvert_exporter": "python",
   "pygments_lexer": "ipython3",
   "version": "3.10.2"
  },
  "orig_nbformat": 4
 },
 "nbformat": 4,
 "nbformat_minor": 2
}
