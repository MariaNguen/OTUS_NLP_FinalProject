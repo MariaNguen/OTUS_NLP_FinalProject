{
 "cells": [
  {
   "cell_type": "markdown",
   "id": "4d5b933d",
   "metadata": {
    "toc": true
   },
   "source": [
    "<h1>Table of Contents<span class=\"tocSkip\"></span></h1>\n",
    "<div class=\"toc\"><ul class=\"toc-item\"></ul></div>"
   ]
  },
  {
   "cell_type": "code",
   "execution_count": 3,
   "id": "0397ac69",
   "metadata": {},
   "outputs": [
    {
     "ename": "ImportError",
     "evalue": "cannot import name 'TelegramObject' from 'aiogram.types' (C:\\Users\\User\\AppData\\Roaming\\Python\\Python39\\site-packages\\aiogram\\types\\__init__.py)",
     "output_type": "error",
     "traceback": [
      "\u001b[1;31m---------------------------------------------------------------------------\u001b[0m",
      "\u001b[1;31mImportError\u001b[0m                               Traceback (most recent call last)",
      "Cell \u001b[1;32mIn[3], line 8\u001b[0m\n\u001b[0;32m      6\u001b[0m \u001b[38;5;28;01mfrom\u001b[39;00m \u001b[38;5;21;01maiogram\u001b[39;00m \u001b[38;5;28;01mimport\u001b[39;00m Bot, Dispatcher, types\n\u001b[0;32m      7\u001b[0m \u001b[38;5;28;01mfrom\u001b[39;00m \u001b[38;5;21;01maiogram\u001b[39;00m\u001b[38;5;21;01m.\u001b[39;00m\u001b[38;5;21;01menums\u001b[39;00m \u001b[38;5;28;01mimport\u001b[39;00m ParseMode\n\u001b[1;32m----> 8\u001b[0m \u001b[38;5;28;01mfrom\u001b[39;00m \u001b[38;5;21;01maiogram\u001b[39;00m\u001b[38;5;21;01m.\u001b[39;00m\u001b[38;5;21;01mfilters\u001b[39;00m \u001b[38;5;28;01mimport\u001b[39;00m CommandStart\n\u001b[0;32m      9\u001b[0m \u001b[38;5;28;01mfrom\u001b[39;00m \u001b[38;5;21;01maiogram\u001b[39;00m\u001b[38;5;21;01m.\u001b[39;00m\u001b[38;5;21;01mtypes\u001b[39;00m \u001b[38;5;28;01mimport\u001b[39;00m Message\n\u001b[0;32m     10\u001b[0m \u001b[38;5;28;01mfrom\u001b[39;00m \u001b[38;5;21;01maiogram\u001b[39;00m\u001b[38;5;21;01m.\u001b[39;00m\u001b[38;5;21;01mutils\u001b[39;00m\u001b[38;5;21;01m.\u001b[39;00m\u001b[38;5;21;01mmarkdown\u001b[39;00m \u001b[38;5;28;01mimport\u001b[39;00m hbold\n",
      "File \u001b[1;32m~\\AppData\\Roaming\\Python\\Python39\\site-packages\\aiogram\\filters\\__init__.py:18\u001b[0m\n\u001b[0;32m      2\u001b[0m \u001b[38;5;28;01mfrom\u001b[39;00m \u001b[38;5;21;01m.\u001b[39;00m\u001b[38;5;21;01mchat_member_updated\u001b[39;00m \u001b[38;5;28;01mimport\u001b[39;00m (\n\u001b[0;32m      3\u001b[0m     ADMINISTRATOR,\n\u001b[0;32m      4\u001b[0m     CREATOR,\n\u001b[1;32m   (...)\u001b[0m\n\u001b[0;32m     15\u001b[0m     ChatMemberUpdatedFilter,\n\u001b[0;32m     16\u001b[0m )\n\u001b[0;32m     17\u001b[0m \u001b[38;5;28;01mfrom\u001b[39;00m \u001b[38;5;21;01m.\u001b[39;00m\u001b[38;5;21;01mcommand\u001b[39;00m \u001b[38;5;28;01mimport\u001b[39;00m Command, CommandObject, CommandStart\n\u001b[1;32m---> 18\u001b[0m \u001b[38;5;28;01mfrom\u001b[39;00m \u001b[38;5;21;01m.\u001b[39;00m\u001b[38;5;21;01mexception\u001b[39;00m \u001b[38;5;28;01mimport\u001b[39;00m ExceptionMessageFilter, ExceptionTypeFilter\n\u001b[0;32m     19\u001b[0m \u001b[38;5;28;01mfrom\u001b[39;00m \u001b[38;5;21;01m.\u001b[39;00m\u001b[38;5;21;01mlogic\u001b[39;00m \u001b[38;5;28;01mimport\u001b[39;00m and_f, invert_f, or_f\n\u001b[0;32m     20\u001b[0m \u001b[38;5;28;01mfrom\u001b[39;00m \u001b[38;5;21;01m.\u001b[39;00m\u001b[38;5;21;01mmagic_data\u001b[39;00m \u001b[38;5;28;01mimport\u001b[39;00m MagicData\n",
      "File \u001b[1;32m~\\AppData\\Roaming\\Python\\Python39\\site-packages\\aiogram\\filters\\exception.py:5\u001b[0m\n\u001b[0;32m      2\u001b[0m \u001b[38;5;28;01mfrom\u001b[39;00m \u001b[38;5;21;01mtyping\u001b[39;00m \u001b[38;5;28;01mimport\u001b[39;00m Any, Dict, Pattern, Type, Union, cast\n\u001b[0;32m      4\u001b[0m \u001b[38;5;28;01mfrom\u001b[39;00m \u001b[38;5;21;01maiogram\u001b[39;00m\u001b[38;5;21;01m.\u001b[39;00m\u001b[38;5;21;01mfilters\u001b[39;00m\u001b[38;5;21;01m.\u001b[39;00m\u001b[38;5;21;01mbase\u001b[39;00m \u001b[38;5;28;01mimport\u001b[39;00m Filter\n\u001b[1;32m----> 5\u001b[0m \u001b[38;5;28;01mfrom\u001b[39;00m \u001b[38;5;21;01maiogram\u001b[39;00m\u001b[38;5;21;01m.\u001b[39;00m\u001b[38;5;21;01mtypes\u001b[39;00m \u001b[38;5;28;01mimport\u001b[39;00m TelegramObject\n\u001b[0;32m      6\u001b[0m \u001b[38;5;28;01mfrom\u001b[39;00m \u001b[38;5;21;01maiogram\u001b[39;00m\u001b[38;5;21;01m.\u001b[39;00m\u001b[38;5;21;01mtypes\u001b[39;00m\u001b[38;5;21;01m.\u001b[39;00m\u001b[38;5;21;01merror_event\u001b[39;00m \u001b[38;5;28;01mimport\u001b[39;00m ErrorEvent\n\u001b[0;32m      9\u001b[0m \u001b[38;5;28;01mclass\u001b[39;00m \u001b[38;5;21;01mExceptionTypeFilter\u001b[39;00m(Filter):\n",
      "\u001b[1;31mImportError\u001b[0m: cannot import name 'TelegramObject' from 'aiogram.types' (C:\\Users\\User\\AppData\\Roaming\\Python\\Python39\\site-packages\\aiogram\\types\\__init__.py)"
     ]
    }
   ],
   "source": [
    "import asyncio\n",
    "import logging\n",
    "import sys\n",
    "from os import getenv\n",
    "\n",
    "from aiogram import Bot, Dispatcher, Router, types\n",
    "from aiogram.enums import ParseMode\n",
    "from aiogram.filters import CommandStart\n",
    "from aiogram.types import Message\n",
    "from aiogram.utils.markdown import hbold"
   ]
  },
  {
   "cell_type": "code",
   "execution_count": null,
   "id": "9a7d8cc5",
   "metadata": {},
   "outputs": [],
   "source": [
    "# Bot token can be obtained via https://t.me/BotFather\n",
    "with open('./config.json', 'r') as f:\n",
    "    json_config = json.load(f)\n",
    "TOKEN = json_config['tg_bot_token']"
   ]
  },
  {
   "cell_type": "code",
   "execution_count": null,
   "id": "0a8978c5",
   "metadata": {},
   "outputs": [],
   "source": [
    "# All handlers should be attached to the Router (or Dispatcher)\n",
    "dp = Dispatcher()"
   ]
  },
  {
   "cell_type": "code",
   "execution_count": null,
   "id": "5d6b7cc8",
   "metadata": {},
   "outputs": [],
   "source": [
    "from transformers import AutoTokenizer, T5ForConditionalGeneration\n",
    "\n",
    "tokenizer = AutoTokenizer.from_pretrained(\"ai-forever/ruT5-base\")\n",
    "model = T5ForConditionalGeneration.from_pretrained(\"../best_models/model_ruT5_5e-5_withPreprocessing_V1\")"
   ]
  },
  {
   "cell_type": "code",
   "execution_count": null,
   "id": "b35e695a",
   "metadata": {},
   "outputs": [],
   "source": [
    "welcome_message = \"\"\"Привет! Я бот-детоксификатор. Напиши мне какое-нибудь сообщение, и я попытаюсь его детоксифицировать.\"\"\""
   ]
  },
  {
   "cell_type": "code",
   "execution_count": null,
   "id": "a8e74c88",
   "metadata": {},
   "outputs": [],
   "source": [
    "help_message = \"\"\"В основе лежит модель ruT5-base (https://huggingface.co/ai-forever/ruT5-base), которую зафайнтьюнили для задачи детоксификации текстов на русском языке.\"\"\""
   ]
  },
  {
   "cell_type": "code",
   "execution_count": null,
   "id": "c4476991",
   "metadata": {},
   "outputs": [],
   "source": [
    "@dp.message(CommandStart())\n",
    "async def command_start_handler(message: Message) -> None:\n",
    "    \"\"\"\n",
    "    This handler receives messages with `/start` command\n",
    "    \"\"\"\n",
    "    # Most event objects have aliases for API methods that can be called in events' context\n",
    "    # For example if you want to answer to incoming message you can use `message.answer(...)` alias\n",
    "    # and the target chat will be passed to :ref:`aiogram.methods.send_message.SendMessage`\n",
    "    # method automatically or call API method directly via\n",
    "    # Bot instance: `bot.send_message(chat_id=message.chat.id, ...)`\n",
    "    await message.answer(welcome_message)\n"
   ]
  },
  {
   "cell_type": "code",
   "execution_count": null,
   "id": "dbdf77af",
   "metadata": {},
   "outputs": [],
   "source": [
    "def paraphrase(text, model, n=None, max_length='auto', temperature=0.0, beams=3):\n",
    "    texts = [text] if isinstance(text, str) else text\n",
    "    inputs = tokenizer(texts, return_tensors='pt', padding=True)['input_ids'].to(model.device)\n",
    "    if max_length == 'auto':\n",
    "        max_length = int(inputs.shape[1] * 1.2) + 10\n",
    "    result = model.generate(\n",
    "        inputs,\n",
    "        num_return_sequences=n or 1,\n",
    "        do_sample=False,\n",
    "        temperature=temperature,\n",
    "        repetition_penalty=3.0,\n",
    "        max_length=max_length,\n",
    "        bad_words_ids=[[2]],  # unk\n",
    "        num_beams=beams,\n",
    "    )\n",
    "    texts = [tokenizer.decode(r, skip_special_tokens=True) for r in result]\n",
    "    if not n and isinstance(text, str):\n",
    "        return texts[0]\n",
    "    return texts"
   ]
  },
  {
   "cell_type": "code",
   "execution_count": null,
   "id": "97dd65b8",
   "metadata": {},
   "outputs": [],
   "source": [
    "@dp.message()\n",
    "async def echo_handler(message: types.Message) -> None:\n",
    "    \"\"\"\n",
    "    Handler will forward receive a message back to the sender\n",
    "\n",
    "    By default, message handler will handle all message types (like a text, photo, sticker etc.)\n",
    "    \"\"\"\n",
    "    detoxified = paraphrase(message.text, model)\n",
    "    await message.answer(detoxified)"
   ]
  },
  {
   "cell_type": "code",
   "execution_count": null,
   "id": "597a8148",
   "metadata": {},
   "outputs": [],
   "source": [
    "async def main() -> None:\n",
    "    # Initialize Bot instance with a default parse mode which will be passed to all API calls\n",
    "    bot = Bot(TOKEN, parse_mode=ParseMode.HTML)\n",
    "    # And the run events dispatching\n",
    "    await dp.start_polling(bot)"
   ]
  },
  {
   "cell_type": "code",
   "execution_count": null,
   "id": "7577915e",
   "metadata": {},
   "outputs": [],
   "source": [
    "if __name__ == \"__main__\":\n",
    "    logging.basicConfig(level=logging.INFO, stream=sys.stdout)\n",
    "    asyncio.run(main())"
   ]
  }
 ],
 "metadata": {
  "kernelspec": {
   "display_name": "Python 3 (ipykernel)",
   "language": "python",
   "name": "python3"
  },
  "language_info": {
   "codemirror_mode": {
    "name": "ipython",
    "version": 3
   },
   "file_extension": ".py",
   "mimetype": "text/x-python",
   "name": "python",
   "nbconvert_exporter": "python",
   "pygments_lexer": "ipython3",
   "version": "3.9.12"
  },
  "toc": {
   "base_numbering": 1,
   "nav_menu": {},
   "number_sections": true,
   "sideBar": true,
   "skip_h1_title": true,
   "title_cell": "Table of Contents",
   "title_sidebar": "Contents",
   "toc_cell": true,
   "toc_position": {},
   "toc_section_display": true,
   "toc_window_display": false
  }
 },
 "nbformat": 4,
 "nbformat_minor": 5
}
