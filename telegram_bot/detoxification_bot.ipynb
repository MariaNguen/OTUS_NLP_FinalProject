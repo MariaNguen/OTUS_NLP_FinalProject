{
 "cells": [
  {
   "cell_type": "markdown",
   "id": "2d21dc8f",
   "metadata": {
    "toc": true
   },
   "source": [
    "<h1>Table of Contents<span class=\"tocSkip\"></span></h1>\n",
    "<div class=\"toc\"><ul class=\"toc-item\"></ul></div>"
   ]
  },
  {
   "cell_type": "code",
   "execution_count": 1,
   "id": "1034ad14",
   "metadata": {},
   "outputs": [],
   "source": [
    "import telebot\n",
    "from telebot import types\n",
    "\n",
    "import json"
   ]
  },
  {
   "cell_type": "code",
   "execution_count": 2,
   "id": "e95dadef",
   "metadata": {},
   "outputs": [],
   "source": [
    "with open('./config.json', 'r') as f:\n",
    "    json_config = json.load(f)"
   ]
  },
  {
   "cell_type": "code",
   "execution_count": 3,
   "id": "850854ae",
   "metadata": {},
   "outputs": [],
   "source": [
    "TOKEN = json_config['tg_bot_token']\n",
    "\n",
    "bot = telebot.TeleBot(TOKEN, num_threads=4)"
   ]
  },
  {
   "cell_type": "code",
   "execution_count": 4,
   "id": "3c72c345",
   "metadata": {},
   "outputs": [
    {
     "name": "stderr",
     "output_type": "stream",
     "text": [
      "You are using the legacy behaviour of the <class 'transformers.models.t5.tokenization_t5.T5Tokenizer'>. This means that tokens that come after special tokens will not be properly handled. We recommend you to read the related pull request available at https://github.com/huggingface/transformers/pull/24565\n"
     ]
    }
   ],
   "source": [
    "from transformers import AutoTokenizer, T5ForConditionalGeneration\n",
    "\n",
    "tokenizer = AutoTokenizer.from_pretrained(\"ai-forever/ruT5-base\")\n",
    "model = T5ForConditionalGeneration.from_pretrained(\"../best_models/model_ruT5_5e-5_withPreprocessing_V1\")"
   ]
  },
  {
   "cell_type": "code",
   "execution_count": 5,
   "id": "ae3f23ff",
   "metadata": {},
   "outputs": [],
   "source": [
    "def paraphrase(text, model, n=None, max_length='auto', temperature=0.0, beams=3):\n",
    "    texts = [text] if isinstance(text, str) else text\n",
    "    inputs = tokenizer(texts, return_tensors='pt', padding=True)['input_ids'].to(model.device)\n",
    "    if max_length == 'auto':\n",
    "        max_length = int(inputs.shape[1] * 1.2) + 10\n",
    "    result = model.generate(\n",
    "        inputs,\n",
    "        num_return_sequences=n or 1,\n",
    "        do_sample=False,\n",
    "        temperature=temperature,\n",
    "        repetition_penalty=3.0,\n",
    "        max_length=max_length,\n",
    "        bad_words_ids=[[2]],  # unk\n",
    "        num_beams=beams,\n",
    "    )\n",
    "    texts = [tokenizer.decode(r, skip_special_tokens=True) for r in result]\n",
    "    if not n and isinstance(text, str):\n",
    "        return texts[0]\n",
    "    return texts"
   ]
  },
  {
   "cell_type": "code",
   "execution_count": 6,
   "id": "60287e1d",
   "metadata": {},
   "outputs": [],
   "source": [
    "# Handle '/start' and '/help'\n",
    "@bot.message_handler(commands=['start'])\n",
    "def send_welcome(message):\n",
    "    welcome_message = \"\"\"Привет! Я бот-детоксификатор. Напиши мне какое-нибудь сообщение, и я попытаюсь его детоксифицировать.\"\"\"\n",
    "    bot.reply_to(message, welcome_message)"
   ]
  },
  {
   "cell_type": "code",
   "execution_count": 7,
   "id": "0d5997e8",
   "metadata": {},
   "outputs": [],
   "source": [
    "@bot.message_handler(commands=['help'])\n",
    "def send_welcome(message):\n",
    "    help_message = \"\"\"В основе лежит модель ruT5-base (https://huggingface.co/ai-forever/ruT5-base), которую зафайнтьюнили для задачи детоксификации текстов на русском языке.\"\"\"\n",
    "    bot.reply_to(message, help_message)"
   ]
  },
  {
   "cell_type": "code",
   "execution_count": 8,
   "id": "4df13950",
   "metadata": {},
   "outputs": [],
   "source": [
    "@bot.message_handler(func=lambda message: True)\n",
    "def paraphrase_message(message):\n",
    "    detoxified = paraphrase(message.text, model)\n",
    "    bot.reply_to(message, detoxified)"
   ]
  },
  {
   "cell_type": "code",
   "execution_count": null,
   "id": "24cb46e2",
   "metadata": {},
   "outputs": [],
   "source": [
    "bot.infinity_polling()"
   ]
  },
  {
   "cell_type": "code",
   "execution_count": null,
   "id": "410e6b18",
   "metadata": {},
   "outputs": [],
   "source": []
  }
 ],
 "metadata": {
  "kernelspec": {
   "display_name": "Python 3 (ipykernel)",
   "language": "python",
   "name": "python3"
  },
  "language_info": {
   "codemirror_mode": {
    "name": "ipython",
    "version": 3
   },
   "file_extension": ".py",
   "mimetype": "text/x-python",
   "name": "python",
   "nbconvert_exporter": "python",
   "pygments_lexer": "ipython3",
   "version": "3.9.12"
  },
  "toc": {
   "base_numbering": 1,
   "nav_menu": {},
   "number_sections": true,
   "sideBar": true,
   "skip_h1_title": true,
   "title_cell": "Table of Contents",
   "title_sidebar": "Contents",
   "toc_cell": true,
   "toc_position": {},
   "toc_section_display": true,
   "toc_window_display": false
  }
 },
 "nbformat": 4,
 "nbformat_minor": 5
}
